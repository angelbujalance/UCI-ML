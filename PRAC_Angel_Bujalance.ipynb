{
 "cells": [
  {
   "cell_type": "markdown",
   "metadata": {},
   "source": [
    "<div style=\"width: 100%; clear: both;\">\n",
    "<div style=\"float: left; width: 50%;\">\n",
    "<img src=\"http://www.uoc.edu/portal/_resources/common/imatges/marca_UOC/UOC_Masterbrand.jpg\", align=\"left\">\n",
    "</div>\n",
    "<div style=\"float: right; width: 50%;\">\n",
    "<p style=\"margin: 0; padding-top: 22px; text-align:right;\"> · Minería de datos · PRAC 1</p>\n",
    "<p style=\"margin: 0; text-align:right;\">2022-1 · Máster universitario en Ciencia de datos (Data science)</p>\n",
    "<p style=\"margin: 0; text-align:right; padding-button: 100px;\">Estudios de Informática, Multimedia y Telecomunicación</p>\n",
    "</div>\n",
    "</div>\n",
    "<div style=\"width:100%;\">&nbsp;</div>\n",
    "\n",
    "\n",
    "# PRAC 1: Selección y preparación de un juego de datos\n",
    "\n",
    "Autor: Ángel Bujalance Gómez\n",
    "\n",
    "En esta práctica he seleccionado una base de datos del repositorio: UCI Machine Learning (https://archive.ics.uci.edu/ml/datasets/heart+disease). El juego de datos que he seleccionado permite generar un modelo capaz de pronosticar el diagnóstico de enfermedades del corazón. En esta primera fase voy a tratar de preparar los datos para la fase del entrenamiento del modelo."
   ]
  },
  {
   "cell_type": "code",
   "execution_count": 104,
   "metadata": {},
   "outputs": [],
   "source": [
    "import pandas as pd\n",
    "import seaborn as sns\n",
    "import numpy as np\n",
    "import random\n",
    "import matplotlib.pyplot as plt"
   ]
  },
  {
   "cell_type": "code",
   "execution_count": 105,
   "metadata": {},
   "outputs": [],
   "source": [
    "df = pd.read_csv('heart_disease_uci.csv')"
   ]
  },
  {
   "cell_type": "code",
   "execution_count": 106,
   "metadata": {},
   "outputs": [
    {
     "data": {
      "text/plain": [
       "(920, 16)"
      ]
     },
     "execution_count": 106,
     "metadata": {},
     "output_type": "execute_result"
    }
   ],
   "source": [
    "df.shape"
   ]
  },
  {
   "cell_type": "code",
   "execution_count": 107,
   "metadata": {},
   "outputs": [
    {
     "name": "stdout",
     "output_type": "stream",
     "text": [
      "<class 'pandas.core.frame.DataFrame'>\n",
      "RangeIndex: 920 entries, 0 to 919\n",
      "Data columns (total 16 columns):\n",
      " #   Column    Non-Null Count  Dtype  \n",
      "---  ------    --------------  -----  \n",
      " 0   id        920 non-null    int64  \n",
      " 1   age       920 non-null    int64  \n",
      " 2   sex       920 non-null    object \n",
      " 3   dataset   920 non-null    object \n",
      " 4   cp        920 non-null    object \n",
      " 5   trestbps  861 non-null    float64\n",
      " 6   chol      890 non-null    float64\n",
      " 7   fbs       830 non-null    object \n",
      " 8   restecg   918 non-null    object \n",
      " 9   thalch    865 non-null    float64\n",
      " 10  exang     865 non-null    object \n",
      " 11  oldpeak   858 non-null    float64\n",
      " 12  slope     611 non-null    object \n",
      " 13  ca        309 non-null    float64\n",
      " 14  thal      434 non-null    object \n",
      " 15  num       920 non-null    int64  \n",
      "dtypes: float64(5), int64(3), object(8)\n",
      "memory usage: 115.1+ KB\n"
     ]
    }
   ],
   "source": [
    "df.info()"
   ]
  },
  {
   "cell_type": "markdown",
   "metadata": {},
   "source": [
    "Estas dos últimas funciones proporcionan información general del dataset. Podemos ver que hay 920 observaciones y 16 variables distintas.\n",
    "\n",
    "De estas, 8 son varaibles numericas, de las que 5 son variables con valores contínuos. Las 8 variables restantes son variables categóricas.\n",
    "\n",
    "Podemos ver que algunas de estas variables tienen muchos atributos con valores nulos. Por ejemplo, la variable \"ca\" tiene 309 de 920 observaciones. \n",
    "\n",
    "Para más información sobre la base de datos, en la página de UCI ML tenemos la siguiente información:\n",
    "\n",
    "* ID: Identificador único para cada paciente.\n",
    "* Age: Edad en años.\n",
    "* Origin: Lugar del estudio.\n",
    "* Sex: sexo.\n",
    "* cp: Síntoma correspondiente al tipo de dolor.\n",
    "* trestbps: Presión sanguinea en reposo.\n",
    "* chol: colesterol.\n",
    "* fbs: si nivel de azúcar en ayunas > 120 mg/dl\n",
    "* restecg: ECG resultados\n",
    "* thalach: máximo nivel cardíaco conseguido\n",
    "* exang: angina producida por ejercicio (Sí/No)\n",
    "* oldpeak: depresión de ST por ejercicio\n",
    "* slope: la pendiente de ST provocada por el ejercicio\n",
    "* ca: número de vasos mayores (0-3)\n",
    "* thal: tres valores: normal; fixed defect; reversible defect\n",
    "* num: diagnóstico"
   ]
  },
  {
   "cell_type": "code",
   "execution_count": 108,
   "metadata": {},
   "outputs": [
    {
     "data": {
      "text/html": [
       "<div>\n",
       "<style scoped>\n",
       "    .dataframe tbody tr th:only-of-type {\n",
       "        vertical-align: middle;\n",
       "    }\n",
       "\n",
       "    .dataframe tbody tr th {\n",
       "        vertical-align: top;\n",
       "    }\n",
       "\n",
       "    .dataframe thead th {\n",
       "        text-align: right;\n",
       "    }\n",
       "</style>\n",
       "<table border=\"1\" class=\"dataframe\">\n",
       "  <thead>\n",
       "    <tr style=\"text-align: right;\">\n",
       "      <th></th>\n",
       "      <th>id</th>\n",
       "      <th>age</th>\n",
       "      <th>sex</th>\n",
       "      <th>dataset</th>\n",
       "      <th>cp</th>\n",
       "      <th>trestbps</th>\n",
       "      <th>chol</th>\n",
       "      <th>fbs</th>\n",
       "      <th>restecg</th>\n",
       "      <th>thalch</th>\n",
       "      <th>exang</th>\n",
       "      <th>oldpeak</th>\n",
       "      <th>slope</th>\n",
       "      <th>ca</th>\n",
       "      <th>thal</th>\n",
       "      <th>num</th>\n",
       "    </tr>\n",
       "  </thead>\n",
       "  <tbody>\n",
       "    <tr>\n",
       "      <th>0</th>\n",
       "      <td>1</td>\n",
       "      <td>63</td>\n",
       "      <td>Male</td>\n",
       "      <td>Cleveland</td>\n",
       "      <td>typical angina</td>\n",
       "      <td>145.0</td>\n",
       "      <td>233.0</td>\n",
       "      <td>True</td>\n",
       "      <td>lv hypertrophy</td>\n",
       "      <td>150.0</td>\n",
       "      <td>False</td>\n",
       "      <td>2.3</td>\n",
       "      <td>downsloping</td>\n",
       "      <td>0.0</td>\n",
       "      <td>fixed defect</td>\n",
       "      <td>0</td>\n",
       "    </tr>\n",
       "    <tr>\n",
       "      <th>1</th>\n",
       "      <td>2</td>\n",
       "      <td>67</td>\n",
       "      <td>Male</td>\n",
       "      <td>Cleveland</td>\n",
       "      <td>asymptomatic</td>\n",
       "      <td>160.0</td>\n",
       "      <td>286.0</td>\n",
       "      <td>False</td>\n",
       "      <td>lv hypertrophy</td>\n",
       "      <td>108.0</td>\n",
       "      <td>True</td>\n",
       "      <td>1.5</td>\n",
       "      <td>flat</td>\n",
       "      <td>3.0</td>\n",
       "      <td>normal</td>\n",
       "      <td>2</td>\n",
       "    </tr>\n",
       "    <tr>\n",
       "      <th>2</th>\n",
       "      <td>3</td>\n",
       "      <td>67</td>\n",
       "      <td>Male</td>\n",
       "      <td>Cleveland</td>\n",
       "      <td>asymptomatic</td>\n",
       "      <td>120.0</td>\n",
       "      <td>229.0</td>\n",
       "      <td>False</td>\n",
       "      <td>lv hypertrophy</td>\n",
       "      <td>129.0</td>\n",
       "      <td>True</td>\n",
       "      <td>2.6</td>\n",
       "      <td>flat</td>\n",
       "      <td>2.0</td>\n",
       "      <td>reversable defect</td>\n",
       "      <td>1</td>\n",
       "    </tr>\n",
       "    <tr>\n",
       "      <th>3</th>\n",
       "      <td>4</td>\n",
       "      <td>37</td>\n",
       "      <td>Male</td>\n",
       "      <td>Cleveland</td>\n",
       "      <td>non-anginal</td>\n",
       "      <td>130.0</td>\n",
       "      <td>250.0</td>\n",
       "      <td>False</td>\n",
       "      <td>normal</td>\n",
       "      <td>187.0</td>\n",
       "      <td>False</td>\n",
       "      <td>3.5</td>\n",
       "      <td>downsloping</td>\n",
       "      <td>0.0</td>\n",
       "      <td>normal</td>\n",
       "      <td>0</td>\n",
       "    </tr>\n",
       "    <tr>\n",
       "      <th>4</th>\n",
       "      <td>5</td>\n",
       "      <td>41</td>\n",
       "      <td>Female</td>\n",
       "      <td>Cleveland</td>\n",
       "      <td>atypical angina</td>\n",
       "      <td>130.0</td>\n",
       "      <td>204.0</td>\n",
       "      <td>False</td>\n",
       "      <td>lv hypertrophy</td>\n",
       "      <td>172.0</td>\n",
       "      <td>False</td>\n",
       "      <td>1.4</td>\n",
       "      <td>upsloping</td>\n",
       "      <td>0.0</td>\n",
       "      <td>normal</td>\n",
       "      <td>0</td>\n",
       "    </tr>\n",
       "  </tbody>\n",
       "</table>\n",
       "</div>"
      ],
      "text/plain": [
       "   id  age     sex    dataset               cp  trestbps   chol    fbs  \\\n",
       "0   1   63    Male  Cleveland   typical angina     145.0  233.0   True   \n",
       "1   2   67    Male  Cleveland     asymptomatic     160.0  286.0  False   \n",
       "2   3   67    Male  Cleveland     asymptomatic     120.0  229.0  False   \n",
       "3   4   37    Male  Cleveland      non-anginal     130.0  250.0  False   \n",
       "4   5   41  Female  Cleveland  atypical angina     130.0  204.0  False   \n",
       "\n",
       "          restecg  thalch  exang  oldpeak        slope   ca  \\\n",
       "0  lv hypertrophy   150.0  False      2.3  downsloping  0.0   \n",
       "1  lv hypertrophy   108.0   True      1.5         flat  3.0   \n",
       "2  lv hypertrophy   129.0   True      2.6         flat  2.0   \n",
       "3          normal   187.0  False      3.5  downsloping  0.0   \n",
       "4  lv hypertrophy   172.0  False      1.4    upsloping  0.0   \n",
       "\n",
       "                thal  num  \n",
       "0       fixed defect    0  \n",
       "1             normal    2  \n",
       "2  reversable defect    1  \n",
       "3             normal    0  \n",
       "4             normal    0  "
      ]
     },
     "execution_count": 108,
     "metadata": {},
     "output_type": "execute_result"
    }
   ],
   "source": [
    "df.head()"
   ]
  },
  {
   "cell_type": "markdown",
   "metadata": {},
   "source": [
    "Además, la variable \"dataset\" contiene información sobre el las instituciones que han colaborado en hacer este dataset. Esta variable no aporta información relevante sobre el diagnóstico de la enfermedad. Por lo tanto, será eliminada."
   ]
  },
  {
   "cell_type": "code",
   "execution_count": 109,
   "metadata": {},
   "outputs": [],
   "source": [
    "df = df.drop(columns=['dataset'])"
   ]
  },
  {
   "cell_type": "code",
   "execution_count": 110,
   "metadata": {},
   "outputs": [
    {
     "data": {
      "text/html": [
       "<div>\n",
       "<style scoped>\n",
       "    .dataframe tbody tr th:only-of-type {\n",
       "        vertical-align: middle;\n",
       "    }\n",
       "\n",
       "    .dataframe tbody tr th {\n",
       "        vertical-align: top;\n",
       "    }\n",
       "\n",
       "    .dataframe thead th {\n",
       "        text-align: right;\n",
       "    }\n",
       "</style>\n",
       "<table border=\"1\" class=\"dataframe\">\n",
       "  <thead>\n",
       "    <tr style=\"text-align: right;\">\n",
       "      <th></th>\n",
       "      <th>id</th>\n",
       "      <th>age</th>\n",
       "      <th>sex</th>\n",
       "      <th>cp</th>\n",
       "      <th>trestbps</th>\n",
       "      <th>chol</th>\n",
       "      <th>fbs</th>\n",
       "      <th>restecg</th>\n",
       "      <th>thalch</th>\n",
       "      <th>exang</th>\n",
       "      <th>oldpeak</th>\n",
       "      <th>slope</th>\n",
       "      <th>ca</th>\n",
       "      <th>thal</th>\n",
       "      <th>num</th>\n",
       "    </tr>\n",
       "  </thead>\n",
       "  <tbody>\n",
       "    <tr>\n",
       "      <th>0</th>\n",
       "      <td>1</td>\n",
       "      <td>63</td>\n",
       "      <td>Male</td>\n",
       "      <td>typical angina</td>\n",
       "      <td>145.0</td>\n",
       "      <td>233.0</td>\n",
       "      <td>True</td>\n",
       "      <td>lv hypertrophy</td>\n",
       "      <td>150.0</td>\n",
       "      <td>False</td>\n",
       "      <td>2.3</td>\n",
       "      <td>downsloping</td>\n",
       "      <td>0.0</td>\n",
       "      <td>fixed defect</td>\n",
       "      <td>0</td>\n",
       "    </tr>\n",
       "    <tr>\n",
       "      <th>1</th>\n",
       "      <td>2</td>\n",
       "      <td>67</td>\n",
       "      <td>Male</td>\n",
       "      <td>asymptomatic</td>\n",
       "      <td>160.0</td>\n",
       "      <td>286.0</td>\n",
       "      <td>False</td>\n",
       "      <td>lv hypertrophy</td>\n",
       "      <td>108.0</td>\n",
       "      <td>True</td>\n",
       "      <td>1.5</td>\n",
       "      <td>flat</td>\n",
       "      <td>3.0</td>\n",
       "      <td>normal</td>\n",
       "      <td>2</td>\n",
       "    </tr>\n",
       "    <tr>\n",
       "      <th>2</th>\n",
       "      <td>3</td>\n",
       "      <td>67</td>\n",
       "      <td>Male</td>\n",
       "      <td>asymptomatic</td>\n",
       "      <td>120.0</td>\n",
       "      <td>229.0</td>\n",
       "      <td>False</td>\n",
       "      <td>lv hypertrophy</td>\n",
       "      <td>129.0</td>\n",
       "      <td>True</td>\n",
       "      <td>2.6</td>\n",
       "      <td>flat</td>\n",
       "      <td>2.0</td>\n",
       "      <td>reversable defect</td>\n",
       "      <td>1</td>\n",
       "    </tr>\n",
       "    <tr>\n",
       "      <th>3</th>\n",
       "      <td>4</td>\n",
       "      <td>37</td>\n",
       "      <td>Male</td>\n",
       "      <td>non-anginal</td>\n",
       "      <td>130.0</td>\n",
       "      <td>250.0</td>\n",
       "      <td>False</td>\n",
       "      <td>normal</td>\n",
       "      <td>187.0</td>\n",
       "      <td>False</td>\n",
       "      <td>3.5</td>\n",
       "      <td>downsloping</td>\n",
       "      <td>0.0</td>\n",
       "      <td>normal</td>\n",
       "      <td>0</td>\n",
       "    </tr>\n",
       "    <tr>\n",
       "      <th>4</th>\n",
       "      <td>5</td>\n",
       "      <td>41</td>\n",
       "      <td>Female</td>\n",
       "      <td>atypical angina</td>\n",
       "      <td>130.0</td>\n",
       "      <td>204.0</td>\n",
       "      <td>False</td>\n",
       "      <td>lv hypertrophy</td>\n",
       "      <td>172.0</td>\n",
       "      <td>False</td>\n",
       "      <td>1.4</td>\n",
       "      <td>upsloping</td>\n",
       "      <td>0.0</td>\n",
       "      <td>normal</td>\n",
       "      <td>0</td>\n",
       "    </tr>\n",
       "  </tbody>\n",
       "</table>\n",
       "</div>"
      ],
      "text/plain": [
       "   id  age     sex               cp  trestbps   chol    fbs         restecg  \\\n",
       "0   1   63    Male   typical angina     145.0  233.0   True  lv hypertrophy   \n",
       "1   2   67    Male     asymptomatic     160.0  286.0  False  lv hypertrophy   \n",
       "2   3   67    Male     asymptomatic     120.0  229.0  False  lv hypertrophy   \n",
       "3   4   37    Male      non-anginal     130.0  250.0  False          normal   \n",
       "4   5   41  Female  atypical angina     130.0  204.0  False  lv hypertrophy   \n",
       "\n",
       "   thalch  exang  oldpeak        slope   ca               thal  num  \n",
       "0   150.0  False      2.3  downsloping  0.0       fixed defect    0  \n",
       "1   108.0   True      1.5         flat  3.0             normal    2  \n",
       "2   129.0   True      2.6         flat  2.0  reversable defect    1  \n",
       "3   187.0  False      3.5  downsloping  0.0             normal    0  \n",
       "4   172.0  False      1.4    upsloping  0.0             normal    0  "
      ]
     },
     "execution_count": 110,
     "metadata": {},
     "output_type": "execute_result"
    }
   ],
   "source": [
    "df.head()"
   ]
  },
  {
   "cell_type": "markdown",
   "metadata": {},
   "source": [
    "La variable \"num\" es la variable que queremos predecir. 0 significa que la persona no tenía la enfermedad y valores más altos corresponden a diferentes etapas de la enfermedad.\n",
    "\n",
    "De esta manera, he creado dos variables: una que corresponda al diagnóstico que indica si la persona está enferma o no. Y otra  que contenga el detalle de la etapa en la que se encuentra el paciente."
   ]
  },
  {
   "cell_type": "code",
   "execution_count": 111,
   "metadata": {},
   "outputs": [
    {
     "data": {
      "text/html": [
       "<div>\n",
       "<style scoped>\n",
       "    .dataframe tbody tr th:only-of-type {\n",
       "        vertical-align: middle;\n",
       "    }\n",
       "\n",
       "    .dataframe tbody tr th {\n",
       "        vertical-align: top;\n",
       "    }\n",
       "\n",
       "    .dataframe thead th {\n",
       "        text-align: right;\n",
       "    }\n",
       "</style>\n",
       "<table border=\"1\" class=\"dataframe\">\n",
       "  <thead>\n",
       "    <tr style=\"text-align: right;\">\n",
       "      <th></th>\n",
       "      <th>id</th>\n",
       "      <th>age</th>\n",
       "      <th>sex</th>\n",
       "      <th>cp</th>\n",
       "      <th>trestbps</th>\n",
       "      <th>chol</th>\n",
       "      <th>fbs</th>\n",
       "      <th>restecg</th>\n",
       "      <th>thalch</th>\n",
       "      <th>exang</th>\n",
       "      <th>oldpeak</th>\n",
       "      <th>slope</th>\n",
       "      <th>ca</th>\n",
       "      <th>thal</th>\n",
       "      <th>stage</th>\n",
       "    </tr>\n",
       "  </thead>\n",
       "  <tbody>\n",
       "    <tr>\n",
       "      <th>0</th>\n",
       "      <td>1</td>\n",
       "      <td>63</td>\n",
       "      <td>Male</td>\n",
       "      <td>typical angina</td>\n",
       "      <td>145.0</td>\n",
       "      <td>233.0</td>\n",
       "      <td>True</td>\n",
       "      <td>lv hypertrophy</td>\n",
       "      <td>150.0</td>\n",
       "      <td>False</td>\n",
       "      <td>2.3</td>\n",
       "      <td>downsloping</td>\n",
       "      <td>0.0</td>\n",
       "      <td>fixed defect</td>\n",
       "      <td>0</td>\n",
       "    </tr>\n",
       "    <tr>\n",
       "      <th>1</th>\n",
       "      <td>2</td>\n",
       "      <td>67</td>\n",
       "      <td>Male</td>\n",
       "      <td>asymptomatic</td>\n",
       "      <td>160.0</td>\n",
       "      <td>286.0</td>\n",
       "      <td>False</td>\n",
       "      <td>lv hypertrophy</td>\n",
       "      <td>108.0</td>\n",
       "      <td>True</td>\n",
       "      <td>1.5</td>\n",
       "      <td>flat</td>\n",
       "      <td>3.0</td>\n",
       "      <td>normal</td>\n",
       "      <td>2</td>\n",
       "    </tr>\n",
       "    <tr>\n",
       "      <th>2</th>\n",
       "      <td>3</td>\n",
       "      <td>67</td>\n",
       "      <td>Male</td>\n",
       "      <td>asymptomatic</td>\n",
       "      <td>120.0</td>\n",
       "      <td>229.0</td>\n",
       "      <td>False</td>\n",
       "      <td>lv hypertrophy</td>\n",
       "      <td>129.0</td>\n",
       "      <td>True</td>\n",
       "      <td>2.6</td>\n",
       "      <td>flat</td>\n",
       "      <td>2.0</td>\n",
       "      <td>reversable defect</td>\n",
       "      <td>1</td>\n",
       "    </tr>\n",
       "    <tr>\n",
       "      <th>3</th>\n",
       "      <td>4</td>\n",
       "      <td>37</td>\n",
       "      <td>Male</td>\n",
       "      <td>non-anginal</td>\n",
       "      <td>130.0</td>\n",
       "      <td>250.0</td>\n",
       "      <td>False</td>\n",
       "      <td>normal</td>\n",
       "      <td>187.0</td>\n",
       "      <td>False</td>\n",
       "      <td>3.5</td>\n",
       "      <td>downsloping</td>\n",
       "      <td>0.0</td>\n",
       "      <td>normal</td>\n",
       "      <td>0</td>\n",
       "    </tr>\n",
       "    <tr>\n",
       "      <th>4</th>\n",
       "      <td>5</td>\n",
       "      <td>41</td>\n",
       "      <td>Female</td>\n",
       "      <td>atypical angina</td>\n",
       "      <td>130.0</td>\n",
       "      <td>204.0</td>\n",
       "      <td>False</td>\n",
       "      <td>lv hypertrophy</td>\n",
       "      <td>172.0</td>\n",
       "      <td>False</td>\n",
       "      <td>1.4</td>\n",
       "      <td>upsloping</td>\n",
       "      <td>0.0</td>\n",
       "      <td>normal</td>\n",
       "      <td>0</td>\n",
       "    </tr>\n",
       "  </tbody>\n",
       "</table>\n",
       "</div>"
      ],
      "text/plain": [
       "   id  age     sex               cp  trestbps   chol    fbs         restecg  \\\n",
       "0   1   63    Male   typical angina     145.0  233.0   True  lv hypertrophy   \n",
       "1   2   67    Male     asymptomatic     160.0  286.0  False  lv hypertrophy   \n",
       "2   3   67    Male     asymptomatic     120.0  229.0  False  lv hypertrophy   \n",
       "3   4   37    Male      non-anginal     130.0  250.0  False          normal   \n",
       "4   5   41  Female  atypical angina     130.0  204.0  False  lv hypertrophy   \n",
       "\n",
       "   thalch  exang  oldpeak        slope   ca               thal  stage  \n",
       "0   150.0  False      2.3  downsloping  0.0       fixed defect      0  \n",
       "1   108.0   True      1.5         flat  3.0             normal      2  \n",
       "2   129.0   True      2.6         flat  2.0  reversable defect      1  \n",
       "3   187.0  False      3.5  downsloping  0.0             normal      0  \n",
       "4   172.0  False      1.4    upsloping  0.0             normal      0  "
      ]
     },
     "execution_count": 111,
     "metadata": {},
     "output_type": "execute_result"
    }
   ],
   "source": [
    "df = df.rename(columns={'num': 'stage'})\n",
    "df.head()"
   ]
  },
  {
   "cell_type": "code",
   "execution_count": 112,
   "metadata": {},
   "outputs": [
    {
     "data": {
      "text/html": [
       "<div>\n",
       "<style scoped>\n",
       "    .dataframe tbody tr th:only-of-type {\n",
       "        vertical-align: middle;\n",
       "    }\n",
       "\n",
       "    .dataframe tbody tr th {\n",
       "        vertical-align: top;\n",
       "    }\n",
       "\n",
       "    .dataframe thead th {\n",
       "        text-align: right;\n",
       "    }\n",
       "</style>\n",
       "<table border=\"1\" class=\"dataframe\">\n",
       "  <thead>\n",
       "    <tr style=\"text-align: right;\">\n",
       "      <th></th>\n",
       "      <th>id</th>\n",
       "      <th>age</th>\n",
       "      <th>sex</th>\n",
       "      <th>cp</th>\n",
       "      <th>trestbps</th>\n",
       "      <th>chol</th>\n",
       "      <th>fbs</th>\n",
       "      <th>restecg</th>\n",
       "      <th>thalch</th>\n",
       "      <th>exang</th>\n",
       "      <th>oldpeak</th>\n",
       "      <th>slope</th>\n",
       "      <th>ca</th>\n",
       "      <th>thal</th>\n",
       "      <th>stage</th>\n",
       "      <th>diagnosis</th>\n",
       "    </tr>\n",
       "  </thead>\n",
       "  <tbody>\n",
       "    <tr>\n",
       "      <th>0</th>\n",
       "      <td>1</td>\n",
       "      <td>63</td>\n",
       "      <td>Male</td>\n",
       "      <td>typical angina</td>\n",
       "      <td>145.0</td>\n",
       "      <td>233.0</td>\n",
       "      <td>True</td>\n",
       "      <td>lv hypertrophy</td>\n",
       "      <td>150.0</td>\n",
       "      <td>False</td>\n",
       "      <td>2.3</td>\n",
       "      <td>downsloping</td>\n",
       "      <td>0.0</td>\n",
       "      <td>fixed defect</td>\n",
       "      <td>0</td>\n",
       "      <td>0</td>\n",
       "    </tr>\n",
       "    <tr>\n",
       "      <th>1</th>\n",
       "      <td>2</td>\n",
       "      <td>67</td>\n",
       "      <td>Male</td>\n",
       "      <td>asymptomatic</td>\n",
       "      <td>160.0</td>\n",
       "      <td>286.0</td>\n",
       "      <td>False</td>\n",
       "      <td>lv hypertrophy</td>\n",
       "      <td>108.0</td>\n",
       "      <td>True</td>\n",
       "      <td>1.5</td>\n",
       "      <td>flat</td>\n",
       "      <td>3.0</td>\n",
       "      <td>normal</td>\n",
       "      <td>2</td>\n",
       "      <td>2</td>\n",
       "    </tr>\n",
       "    <tr>\n",
       "      <th>2</th>\n",
       "      <td>3</td>\n",
       "      <td>67</td>\n",
       "      <td>Male</td>\n",
       "      <td>asymptomatic</td>\n",
       "      <td>120.0</td>\n",
       "      <td>229.0</td>\n",
       "      <td>False</td>\n",
       "      <td>lv hypertrophy</td>\n",
       "      <td>129.0</td>\n",
       "      <td>True</td>\n",
       "      <td>2.6</td>\n",
       "      <td>flat</td>\n",
       "      <td>2.0</td>\n",
       "      <td>reversable defect</td>\n",
       "      <td>1</td>\n",
       "      <td>1</td>\n",
       "    </tr>\n",
       "    <tr>\n",
       "      <th>3</th>\n",
       "      <td>4</td>\n",
       "      <td>37</td>\n",
       "      <td>Male</td>\n",
       "      <td>non-anginal</td>\n",
       "      <td>130.0</td>\n",
       "      <td>250.0</td>\n",
       "      <td>False</td>\n",
       "      <td>normal</td>\n",
       "      <td>187.0</td>\n",
       "      <td>False</td>\n",
       "      <td>3.5</td>\n",
       "      <td>downsloping</td>\n",
       "      <td>0.0</td>\n",
       "      <td>normal</td>\n",
       "      <td>0</td>\n",
       "      <td>0</td>\n",
       "    </tr>\n",
       "    <tr>\n",
       "      <th>4</th>\n",
       "      <td>5</td>\n",
       "      <td>41</td>\n",
       "      <td>Female</td>\n",
       "      <td>atypical angina</td>\n",
       "      <td>130.0</td>\n",
       "      <td>204.0</td>\n",
       "      <td>False</td>\n",
       "      <td>lv hypertrophy</td>\n",
       "      <td>172.0</td>\n",
       "      <td>False</td>\n",
       "      <td>1.4</td>\n",
       "      <td>upsloping</td>\n",
       "      <td>0.0</td>\n",
       "      <td>normal</td>\n",
       "      <td>0</td>\n",
       "      <td>0</td>\n",
       "    </tr>\n",
       "  </tbody>\n",
       "</table>\n",
       "</div>"
      ],
      "text/plain": [
       "   id  age     sex               cp  trestbps   chol    fbs         restecg  \\\n",
       "0   1   63    Male   typical angina     145.0  233.0   True  lv hypertrophy   \n",
       "1   2   67    Male     asymptomatic     160.0  286.0  False  lv hypertrophy   \n",
       "2   3   67    Male     asymptomatic     120.0  229.0  False  lv hypertrophy   \n",
       "3   4   37    Male      non-anginal     130.0  250.0  False          normal   \n",
       "4   5   41  Female  atypical angina     130.0  204.0  False  lv hypertrophy   \n",
       "\n",
       "   thalch  exang  oldpeak        slope   ca               thal  stage  \\\n",
       "0   150.0  False      2.3  downsloping  0.0       fixed defect      0   \n",
       "1   108.0   True      1.5         flat  3.0             normal      2   \n",
       "2   129.0   True      2.6         flat  2.0  reversable defect      1   \n",
       "3   187.0  False      3.5  downsloping  0.0             normal      0   \n",
       "4   172.0  False      1.4    upsloping  0.0             normal      0   \n",
       "\n",
       "   diagnosis  \n",
       "0          0  \n",
       "1          2  \n",
       "2          1  \n",
       "3          0  \n",
       "4          0  "
      ]
     },
     "execution_count": 112,
     "metadata": {},
     "output_type": "execute_result"
    }
   ],
   "source": [
    "df['diagnosis'] = df['stage']\n",
    "df.head()"
   ]
  },
  {
   "cell_type": "code",
   "execution_count": 113,
   "metadata": {},
   "outputs": [
    {
     "name": "stderr",
     "output_type": "stream",
     "text": [
      "/var/folders/vc/dhymnk052dz8zs7gq81kypgw0000gn/T/ipykernel_32284/1414671565.py:1: SettingWithCopyWarning: \n",
      "A value is trying to be set on a copy of a slice from a DataFrame\n",
      "\n",
      "See the caveats in the documentation: https://pandas.pydata.org/pandas-docs/stable/user_guide/indexing.html#returning-a-view-versus-a-copy\n",
      "  df['diagnosis'].loc[(df['diagnosis'] > 0)] = 1\n"
     ]
    },
    {
     "data": {
      "text/html": [
       "<div>\n",
       "<style scoped>\n",
       "    .dataframe tbody tr th:only-of-type {\n",
       "        vertical-align: middle;\n",
       "    }\n",
       "\n",
       "    .dataframe tbody tr th {\n",
       "        vertical-align: top;\n",
       "    }\n",
       "\n",
       "    .dataframe thead th {\n",
       "        text-align: right;\n",
       "    }\n",
       "</style>\n",
       "<table border=\"1\" class=\"dataframe\">\n",
       "  <thead>\n",
       "    <tr style=\"text-align: right;\">\n",
       "      <th></th>\n",
       "      <th>id</th>\n",
       "      <th>age</th>\n",
       "      <th>sex</th>\n",
       "      <th>cp</th>\n",
       "      <th>trestbps</th>\n",
       "      <th>chol</th>\n",
       "      <th>fbs</th>\n",
       "      <th>restecg</th>\n",
       "      <th>thalch</th>\n",
       "      <th>exang</th>\n",
       "      <th>oldpeak</th>\n",
       "      <th>slope</th>\n",
       "      <th>ca</th>\n",
       "      <th>thal</th>\n",
       "      <th>stage</th>\n",
       "      <th>diagnosis</th>\n",
       "    </tr>\n",
       "  </thead>\n",
       "  <tbody>\n",
       "    <tr>\n",
       "      <th>0</th>\n",
       "      <td>1</td>\n",
       "      <td>63</td>\n",
       "      <td>Male</td>\n",
       "      <td>typical angina</td>\n",
       "      <td>145.0</td>\n",
       "      <td>233.0</td>\n",
       "      <td>True</td>\n",
       "      <td>lv hypertrophy</td>\n",
       "      <td>150.0</td>\n",
       "      <td>False</td>\n",
       "      <td>2.3</td>\n",
       "      <td>downsloping</td>\n",
       "      <td>0.0</td>\n",
       "      <td>fixed defect</td>\n",
       "      <td>0</td>\n",
       "      <td>0</td>\n",
       "    </tr>\n",
       "    <tr>\n",
       "      <th>1</th>\n",
       "      <td>2</td>\n",
       "      <td>67</td>\n",
       "      <td>Male</td>\n",
       "      <td>asymptomatic</td>\n",
       "      <td>160.0</td>\n",
       "      <td>286.0</td>\n",
       "      <td>False</td>\n",
       "      <td>lv hypertrophy</td>\n",
       "      <td>108.0</td>\n",
       "      <td>True</td>\n",
       "      <td>1.5</td>\n",
       "      <td>flat</td>\n",
       "      <td>3.0</td>\n",
       "      <td>normal</td>\n",
       "      <td>2</td>\n",
       "      <td>1</td>\n",
       "    </tr>\n",
       "    <tr>\n",
       "      <th>2</th>\n",
       "      <td>3</td>\n",
       "      <td>67</td>\n",
       "      <td>Male</td>\n",
       "      <td>asymptomatic</td>\n",
       "      <td>120.0</td>\n",
       "      <td>229.0</td>\n",
       "      <td>False</td>\n",
       "      <td>lv hypertrophy</td>\n",
       "      <td>129.0</td>\n",
       "      <td>True</td>\n",
       "      <td>2.6</td>\n",
       "      <td>flat</td>\n",
       "      <td>2.0</td>\n",
       "      <td>reversable defect</td>\n",
       "      <td>1</td>\n",
       "      <td>1</td>\n",
       "    </tr>\n",
       "    <tr>\n",
       "      <th>3</th>\n",
       "      <td>4</td>\n",
       "      <td>37</td>\n",
       "      <td>Male</td>\n",
       "      <td>non-anginal</td>\n",
       "      <td>130.0</td>\n",
       "      <td>250.0</td>\n",
       "      <td>False</td>\n",
       "      <td>normal</td>\n",
       "      <td>187.0</td>\n",
       "      <td>False</td>\n",
       "      <td>3.5</td>\n",
       "      <td>downsloping</td>\n",
       "      <td>0.0</td>\n",
       "      <td>normal</td>\n",
       "      <td>0</td>\n",
       "      <td>0</td>\n",
       "    </tr>\n",
       "    <tr>\n",
       "      <th>4</th>\n",
       "      <td>5</td>\n",
       "      <td>41</td>\n",
       "      <td>Female</td>\n",
       "      <td>atypical angina</td>\n",
       "      <td>130.0</td>\n",
       "      <td>204.0</td>\n",
       "      <td>False</td>\n",
       "      <td>lv hypertrophy</td>\n",
       "      <td>172.0</td>\n",
       "      <td>False</td>\n",
       "      <td>1.4</td>\n",
       "      <td>upsloping</td>\n",
       "      <td>0.0</td>\n",
       "      <td>normal</td>\n",
       "      <td>0</td>\n",
       "      <td>0</td>\n",
       "    </tr>\n",
       "  </tbody>\n",
       "</table>\n",
       "</div>"
      ],
      "text/plain": [
       "   id  age     sex               cp  trestbps   chol    fbs         restecg  \\\n",
       "0   1   63    Male   typical angina     145.0  233.0   True  lv hypertrophy   \n",
       "1   2   67    Male     asymptomatic     160.0  286.0  False  lv hypertrophy   \n",
       "2   3   67    Male     asymptomatic     120.0  229.0  False  lv hypertrophy   \n",
       "3   4   37    Male      non-anginal     130.0  250.0  False          normal   \n",
       "4   5   41  Female  atypical angina     130.0  204.0  False  lv hypertrophy   \n",
       "\n",
       "   thalch  exang  oldpeak        slope   ca               thal  stage  \\\n",
       "0   150.0  False      2.3  downsloping  0.0       fixed defect      0   \n",
       "1   108.0   True      1.5         flat  3.0             normal      2   \n",
       "2   129.0   True      2.6         flat  2.0  reversable defect      1   \n",
       "3   187.0  False      3.5  downsloping  0.0             normal      0   \n",
       "4   172.0  False      1.4    upsloping  0.0             normal      0   \n",
       "\n",
       "   diagnosis  \n",
       "0          0  \n",
       "1          1  \n",
       "2          1  \n",
       "3          0  \n",
       "4          0  "
      ]
     },
     "execution_count": 113,
     "metadata": {},
     "output_type": "execute_result"
    }
   ],
   "source": [
    "df['diagnosis'].loc[(df['diagnosis'] > 0)] = 1\n",
    "df.head()"
   ]
  },
  {
   "cell_type": "markdown",
   "metadata": {},
   "source": [
    "Voy a eliminar las variables 'ca' y 'thal' puesto que tienen demasiados valores nulos. Alrededor del 50% de los valores son nulos en esta variable."
   ]
  },
  {
   "cell_type": "code",
   "execution_count": 114,
   "metadata": {},
   "outputs": [],
   "source": [
    "df = df.drop(columns=['ca', 'thal', 'id'])"
   ]
  },
  {
   "cell_type": "code",
   "execution_count": 115,
   "metadata": {},
   "outputs": [
    {
     "data": {
      "text/html": [
       "<div>\n",
       "<style scoped>\n",
       "    .dataframe tbody tr th:only-of-type {\n",
       "        vertical-align: middle;\n",
       "    }\n",
       "\n",
       "    .dataframe tbody tr th {\n",
       "        vertical-align: top;\n",
       "    }\n",
       "\n",
       "    .dataframe thead th {\n",
       "        text-align: right;\n",
       "    }\n",
       "</style>\n",
       "<table border=\"1\" class=\"dataframe\">\n",
       "  <thead>\n",
       "    <tr style=\"text-align: right;\">\n",
       "      <th></th>\n",
       "      <th>age</th>\n",
       "      <th>sex</th>\n",
       "      <th>cp</th>\n",
       "      <th>trestbps</th>\n",
       "      <th>chol</th>\n",
       "      <th>fbs</th>\n",
       "      <th>restecg</th>\n",
       "      <th>thalch</th>\n",
       "      <th>exang</th>\n",
       "      <th>oldpeak</th>\n",
       "      <th>slope</th>\n",
       "      <th>stage</th>\n",
       "      <th>diagnosis</th>\n",
       "    </tr>\n",
       "  </thead>\n",
       "  <tbody>\n",
       "    <tr>\n",
       "      <th>0</th>\n",
       "      <td>63</td>\n",
       "      <td>Male</td>\n",
       "      <td>typical angina</td>\n",
       "      <td>145.0</td>\n",
       "      <td>233.0</td>\n",
       "      <td>True</td>\n",
       "      <td>lv hypertrophy</td>\n",
       "      <td>150.0</td>\n",
       "      <td>False</td>\n",
       "      <td>2.3</td>\n",
       "      <td>downsloping</td>\n",
       "      <td>0</td>\n",
       "      <td>0</td>\n",
       "    </tr>\n",
       "    <tr>\n",
       "      <th>1</th>\n",
       "      <td>67</td>\n",
       "      <td>Male</td>\n",
       "      <td>asymptomatic</td>\n",
       "      <td>160.0</td>\n",
       "      <td>286.0</td>\n",
       "      <td>False</td>\n",
       "      <td>lv hypertrophy</td>\n",
       "      <td>108.0</td>\n",
       "      <td>True</td>\n",
       "      <td>1.5</td>\n",
       "      <td>flat</td>\n",
       "      <td>2</td>\n",
       "      <td>1</td>\n",
       "    </tr>\n",
       "    <tr>\n",
       "      <th>2</th>\n",
       "      <td>67</td>\n",
       "      <td>Male</td>\n",
       "      <td>asymptomatic</td>\n",
       "      <td>120.0</td>\n",
       "      <td>229.0</td>\n",
       "      <td>False</td>\n",
       "      <td>lv hypertrophy</td>\n",
       "      <td>129.0</td>\n",
       "      <td>True</td>\n",
       "      <td>2.6</td>\n",
       "      <td>flat</td>\n",
       "      <td>1</td>\n",
       "      <td>1</td>\n",
       "    </tr>\n",
       "    <tr>\n",
       "      <th>3</th>\n",
       "      <td>37</td>\n",
       "      <td>Male</td>\n",
       "      <td>non-anginal</td>\n",
       "      <td>130.0</td>\n",
       "      <td>250.0</td>\n",
       "      <td>False</td>\n",
       "      <td>normal</td>\n",
       "      <td>187.0</td>\n",
       "      <td>False</td>\n",
       "      <td>3.5</td>\n",
       "      <td>downsloping</td>\n",
       "      <td>0</td>\n",
       "      <td>0</td>\n",
       "    </tr>\n",
       "    <tr>\n",
       "      <th>4</th>\n",
       "      <td>41</td>\n",
       "      <td>Female</td>\n",
       "      <td>atypical angina</td>\n",
       "      <td>130.0</td>\n",
       "      <td>204.0</td>\n",
       "      <td>False</td>\n",
       "      <td>lv hypertrophy</td>\n",
       "      <td>172.0</td>\n",
       "      <td>False</td>\n",
       "      <td>1.4</td>\n",
       "      <td>upsloping</td>\n",
       "      <td>0</td>\n",
       "      <td>0</td>\n",
       "    </tr>\n",
       "  </tbody>\n",
       "</table>\n",
       "</div>"
      ],
      "text/plain": [
       "   age     sex               cp  trestbps   chol    fbs         restecg  \\\n",
       "0   63    Male   typical angina     145.0  233.0   True  lv hypertrophy   \n",
       "1   67    Male     asymptomatic     160.0  286.0  False  lv hypertrophy   \n",
       "2   67    Male     asymptomatic     120.0  229.0  False  lv hypertrophy   \n",
       "3   37    Male      non-anginal     130.0  250.0  False          normal   \n",
       "4   41  Female  atypical angina     130.0  204.0  False  lv hypertrophy   \n",
       "\n",
       "   thalch  exang  oldpeak        slope  stage  diagnosis  \n",
       "0   150.0  False      2.3  downsloping      0          0  \n",
       "1   108.0   True      1.5         flat      2          1  \n",
       "2   129.0   True      2.6         flat      1          1  \n",
       "3   187.0  False      3.5  downsloping      0          0  \n",
       "4   172.0  False      1.4    upsloping      0          0  "
      ]
     },
     "execution_count": 115,
     "metadata": {},
     "output_type": "execute_result"
    }
   ],
   "source": [
    "df.head()"
   ]
  },
  {
   "cell_type": "markdown",
   "metadata": {},
   "source": [
    "Voy a visualizar todas aquellas variables que contienen valores nulos:"
   ]
  },
  {
   "cell_type": "code",
   "execution_count": 116,
   "metadata": {},
   "outputs": [
    {
     "data": {
      "text/plain": [
       "trestbps     59\n",
       "chol         30\n",
       "fbs          90\n",
       "restecg       2\n",
       "thalch       55\n",
       "exang        55\n",
       "oldpeak      62\n",
       "slope       309\n",
       "dtype: int64"
      ]
     },
     "execution_count": 116,
     "metadata": {},
     "output_type": "execute_result"
    }
   ],
   "source": [
    "df.isna().sum()[df.isna().sum() > 0] # show nan of cols with nan"
   ]
  },
  {
   "cell_type": "code",
   "execution_count": 117,
   "metadata": {},
   "outputs": [
    {
     "data": {
      "text/plain": [
       "{'downsloping', 'flat', nan, 'upsloping'}"
      ]
     },
     "execution_count": 117,
     "metadata": {},
     "output_type": "execute_result"
    }
   ],
   "source": [
    "set(df.slope)"
   ]
  },
  {
   "cell_type": "markdown",
   "metadata": {},
   "source": [
    "Primero de todo, voy a dividir los datos de manera que tenga un dataset de entrenamiento y otro de test para evaluar la capacidad del modelo. \n",
    "\n",
    "Para hacer la limpieza de los datos, voy a crear una serie de reglas en el dataset de entrenamiento. Estas reglas las aplicaré también en el dataset de test. En una situación real en la que tengamos missing data en la fase de entrenamiento, también la tendremos una vez el modelo haya sido desarrollado e implmentado a nivel de producción. Es por eso que hacer esta división de los datos va a favorecer tener una visión más real del rendimiento que el modelo va a tener en producción.\n",
    "\n",
    "### Train - Test Split"
   ]
  },
  {
   "cell_type": "code",
   "execution_count": 118,
   "metadata": {},
   "outputs": [],
   "source": [
    "X = df.drop(columns=['diagnosis', 'stage'])\n",
    "y = df.diagnosis"
   ]
  },
  {
   "cell_type": "code",
   "execution_count": 119,
   "metadata": {},
   "outputs": [],
   "source": [
    "from sklearn.model_selection import train_test_split\n",
    "X_train, X_test, y_train, y_test = train_test_split(\n",
    "    X, y, test_size=0.2, random_state=23)"
   ]
  },
  {
   "cell_type": "markdown",
   "metadata": {},
   "source": [
    "## Data Cleaning\n",
    "\n",
    "First, I will clean the attributes in the train dataset. The same principles followed here, will be implemented to clean the data in the test set."
   ]
  },
  {
   "cell_type": "code",
   "execution_count": 120,
   "metadata": {},
   "outputs": [
    {
     "data": {
      "text/html": [
       "<div>\n",
       "<style scoped>\n",
       "    .dataframe tbody tr th:only-of-type {\n",
       "        vertical-align: middle;\n",
       "    }\n",
       "\n",
       "    .dataframe tbody tr th {\n",
       "        vertical-align: top;\n",
       "    }\n",
       "\n",
       "    .dataframe thead th {\n",
       "        text-align: right;\n",
       "    }\n",
       "</style>\n",
       "<table border=\"1\" class=\"dataframe\">\n",
       "  <thead>\n",
       "    <tr style=\"text-align: right;\">\n",
       "      <th></th>\n",
       "      <th>age</th>\n",
       "      <th>sex</th>\n",
       "      <th>cp</th>\n",
       "      <th>trestbps</th>\n",
       "      <th>chol</th>\n",
       "      <th>fbs</th>\n",
       "      <th>restecg</th>\n",
       "      <th>thalch</th>\n",
       "      <th>exang</th>\n",
       "      <th>oldpeak</th>\n",
       "      <th>slope</th>\n",
       "    </tr>\n",
       "  </thead>\n",
       "  <tbody>\n",
       "    <tr>\n",
       "      <th>835</th>\n",
       "      <td>64</td>\n",
       "      <td>Male</td>\n",
       "      <td>asymptomatic</td>\n",
       "      <td>NaN</td>\n",
       "      <td>306.0</td>\n",
       "      <td>True</td>\n",
       "      <td>st-t abnormality</td>\n",
       "      <td>NaN</td>\n",
       "      <td>NaN</td>\n",
       "      <td>NaN</td>\n",
       "      <td>NaN</td>\n",
       "    </tr>\n",
       "    <tr>\n",
       "      <th>680</th>\n",
       "      <td>61</td>\n",
       "      <td>Male</td>\n",
       "      <td>non-anginal</td>\n",
       "      <td>200.0</td>\n",
       "      <td>0.0</td>\n",
       "      <td>NaN</td>\n",
       "      <td>st-t abnormality</td>\n",
       "      <td>70.0</td>\n",
       "      <td>False</td>\n",
       "      <td>0.0</td>\n",
       "      <td>NaN</td>\n",
       "    </tr>\n",
       "    <tr>\n",
       "      <th>725</th>\n",
       "      <td>66</td>\n",
       "      <td>Male</td>\n",
       "      <td>non-anginal</td>\n",
       "      <td>120.0</td>\n",
       "      <td>0.0</td>\n",
       "      <td>False</td>\n",
       "      <td>st-t abnormality</td>\n",
       "      <td>120.0</td>\n",
       "      <td>False</td>\n",
       "      <td>-0.5</td>\n",
       "      <td>upsloping</td>\n",
       "    </tr>\n",
       "    <tr>\n",
       "      <th>564</th>\n",
       "      <td>52</td>\n",
       "      <td>Male</td>\n",
       "      <td>asymptomatic</td>\n",
       "      <td>112.0</td>\n",
       "      <td>342.0</td>\n",
       "      <td>False</td>\n",
       "      <td>st-t abnormality</td>\n",
       "      <td>96.0</td>\n",
       "      <td>True</td>\n",
       "      <td>1.0</td>\n",
       "      <td>flat</td>\n",
       "    </tr>\n",
       "    <tr>\n",
       "      <th>329</th>\n",
       "      <td>37</td>\n",
       "      <td>Male</td>\n",
       "      <td>asymptomatic</td>\n",
       "      <td>130.0</td>\n",
       "      <td>315.0</td>\n",
       "      <td>False</td>\n",
       "      <td>normal</td>\n",
       "      <td>158.0</td>\n",
       "      <td>False</td>\n",
       "      <td>0.0</td>\n",
       "      <td>NaN</td>\n",
       "    </tr>\n",
       "  </tbody>\n",
       "</table>\n",
       "</div>"
      ],
      "text/plain": [
       "     age   sex            cp  trestbps   chol    fbs           restecg  \\\n",
       "835   64  Male  asymptomatic       NaN  306.0   True  st-t abnormality   \n",
       "680   61  Male   non-anginal     200.0    0.0    NaN  st-t abnormality   \n",
       "725   66  Male   non-anginal     120.0    0.0  False  st-t abnormality   \n",
       "564   52  Male  asymptomatic     112.0  342.0  False  st-t abnormality   \n",
       "329   37  Male  asymptomatic     130.0  315.0  False            normal   \n",
       "\n",
       "     thalch  exang  oldpeak      slope  \n",
       "835     NaN    NaN      NaN        NaN  \n",
       "680    70.0  False      0.0        NaN  \n",
       "725   120.0  False     -0.5  upsloping  \n",
       "564    96.0   True      1.0       flat  \n",
       "329   158.0  False      0.0        NaN  "
      ]
     },
     "execution_count": 120,
     "metadata": {},
     "output_type": "execute_result"
    }
   ],
   "source": [
    "X_train.head()"
   ]
  },
  {
   "cell_type": "code",
   "execution_count": 121,
   "metadata": {},
   "outputs": [
    {
     "data": {
      "text/plain": [
       "trestbps     49\n",
       "chol         24\n",
       "fbs          73\n",
       "restecg       1\n",
       "thalch       46\n",
       "exang        46\n",
       "oldpeak      52\n",
       "slope       254\n",
       "dtype: int64"
      ]
     },
     "execution_count": 121,
     "metadata": {},
     "output_type": "execute_result"
    }
   ],
   "source": [
    "X_train.isna().sum()[X_train.isna().sum() > 0] # show nan of cols with nan"
   ]
  },
  {
   "cell_type": "markdown",
   "metadata": {},
   "source": [
    "### Data Cleaning trestbps & Data Exploration"
   ]
  },
  {
   "cell_type": "code",
   "execution_count": 122,
   "metadata": {},
   "outputs": [
    {
     "data": {
      "text/plain": [
       "<AxesSubplot:>"
      ]
     },
     "execution_count": 122,
     "metadata": {},
     "output_type": "execute_result"
    },
    {
     "data": {
      "image/png": "[encoded data removed]",
      "text/plain": [
       "<Figure size 432x288 with 1 Axes>"
      ]
     },
     "metadata": {
      "needs_background": "light"
     },
     "output_type": "display_data"
    }
   ],
   "source": [
    "X_train.trestbps.hist()"
   ]
  },
  {
   "cell_type": "code",
   "execution_count": 123,
   "metadata": {},
   "outputs": [
    {
     "data": {
      "text/plain": [
       "<AxesSubplot:xlabel='trestbps', ylabel='Count'>"
      ]
     },
     "execution_count": 123,
     "metadata": {},
     "output_type": "execute_result"
    },
    {
     "data": {
      "image/png": "[encoded data removed]",
      "text/plain": [
       "<Figure size 432x288 with 1 Axes>"
      ]
     },
     "metadata": {
      "needs_background": "light"
     },
     "output_type": "display_data"
    }
   ],
   "source": [
    "sns.histplot(X_train, x='trestbps', bins=70)"
   ]
  },
  {
   "cell_type": "markdown",
   "metadata": {},
   "source": [
    "En este histograma se puede observar cómo los datos siguen una distribución normal, pero hay algunos valores más frecuentes. Esto puede ser porque algunos médicos tengan tendencia a asignar valores redondeados. \n",
    "\n",
    "En este caso, asumimos que la distribución es normal y asignaremos el valor medio a los valores nulos."
   ]
  },
  {
   "cell_type": "code",
   "execution_count": 124,
   "metadata": {},
   "outputs": [
    {
     "name": "stdout",
     "output_type": "stream",
     "text": [
      "132.6448326055313\n"
     ]
    }
   ],
   "source": [
    "trestbps = X_train['trestbps'][X_train['trestbps'].notnull()].to_numpy().reshape(-1,1)\n",
    "\n",
    "trestbps_mean = np.mean(trestbps)\n",
    "print(trestbps_mean)\n",
    "\n",
    "X_train['trestbps'] = X_train['trestbps'].fillna(trestbps_mean)"
   ]
  },
  {
   "cell_type": "code",
   "execution_count": 125,
   "metadata": {},
   "outputs": [
    {
     "data": {
      "text/plain": [
       "<AxesSubplot:xlabel='trestbps', ylabel='Count'>"
      ]
     },
     "execution_count": 125,
     "metadata": {},
     "output_type": "execute_result"
    },
    {
     "data": {
      "image/png": "[encoded data removed]",
      "text/plain": [
       "<Figure size 432x288 with 1 Axes>"
      ]
     },
     "metadata": {
      "needs_background": "light"
     },
     "output_type": "display_data"
    }
   ],
   "source": [
    "sns.histplot(X_train, x='trestbps', bins=70)"
   ]
  },
  {
   "cell_type": "code",
   "execution_count": 126,
   "metadata": {},
   "outputs": [
    {
     "data": {
      "text/plain": [
       "<AxesSubplot:>"
      ]
     },
     "execution_count": 126,
     "metadata": {},
     "output_type": "execute_result"
    },
    {
     "data": {
      "image/png": "[encoded data removed]",
      "text/plain": [
       "<Figure size 432x288 with 1 Axes>"
      ]
     },
     "metadata": {
      "needs_background": "light"
     },
     "output_type": "display_data"
    }
   ],
   "source": [
    "X_train.chol.hist()"
   ]
  },
  {
   "cell_type": "markdown",
   "metadata": {},
   "source": [
    "### Data Cleaning Cholesterol & Data Exploration"
   ]
  },
  {
   "cell_type": "code",
   "execution_count": 127,
   "metadata": {},
   "outputs": [
    {
     "data": {
      "text/plain": [
       "<AxesSubplot:xlabel='chol', ylabel='Count'>"
      ]
     },
     "execution_count": 127,
     "metadata": {},
     "output_type": "execute_result"
    },
    {
     "data": {
      "image/png": "[encoded data removed]",
      "text/plain": [
       "<Figure size 432x288 with 1 Axes>"
      ]
     },
     "metadata": {
      "needs_background": "light"
     },
     "output_type": "display_data"
    }
   ],
   "source": [
    "sns.histplot(X_train, x='chol', bins=30)"
   ]
  },
  {
   "cell_type": "code",
   "execution_count": 128,
   "metadata": {},
   "outputs": [
    {
     "data": {
      "text/plain": [
       "835    306.0\n",
       "680      0.0\n",
       "725      0.0\n",
       "564    342.0\n",
       "329    315.0\n",
       "Name: chol, dtype: float64"
      ]
     },
     "execution_count": 128,
     "metadata": {},
     "output_type": "execute_result"
    }
   ],
   "source": [
    "X_train.chol.head()"
   ]
  },
  {
   "cell_type": "markdown",
   "metadata": {},
   "source": [
    "En este caso, podemos categorizar los valores numéricos y discretizar esta variable en función del nivel de colesterol. Según criterios médicos, valores por debajo de 200 son niveles de colesterol adecuados para mantener una buena salud cardiovascular. Valores entre 200 y 239 son considerados de riesgo y de 240 o mayores son peligrosos.\n",
    "\n",
    "En esta variable vuelven a ver missing values. Estos los substiuiré por la mediana. En este caso, aunque la mayor parte de los datos siguen una distribución normal, una parte de ellos están en otro \"clúster\". Es por eso por lo que en este caso no puedo asumir que los datos sean normales y prefiero substituir los valores por la mediana.\n",
    "\n",
    "REFERENCES:\n",
    "\n",
    "Cholesterol Numbers and What They Mean (https://my.clevelandclinic.org/health/articles/11920-cholesterol-numbers-what-do-they-mean)"
   ]
  },
  {
   "cell_type": "code",
   "execution_count": 129,
   "metadata": {},
   "outputs": [
    {
     "name": "stdout",
     "output_type": "stream",
     "text": [
      "225.0\n"
     ]
    }
   ],
   "source": [
    "chol = X_train['chol'][X_train['chol'].notnull()].to_numpy().reshape(-1,1)\n",
    "\n",
    "chol_median = np.median(chol)\n",
    "\n",
    "print(chol_median)\n",
    "\n",
    "X_train['chol'] = X_train['chol'].fillna(chol_median)"
   ]
  },
  {
   "cell_type": "code",
   "execution_count": 130,
   "metadata": {},
   "outputs": [
    {
     "data": {
      "text/plain": [
       "<AxesSubplot:xlabel='chol', ylabel='Count'>"
      ]
     },
     "execution_count": 130,
     "metadata": {},
     "output_type": "execute_result"
    },
    {
     "data": {
      "image/png": "[encoded data removed]",
      "text/plain": [
       "<Figure size 432x288 with 1 Axes>"
      ]
     },
     "metadata": {
      "needs_background": "light"
     },
     "output_type": "display_data"
    }
   ],
   "source": [
    "sns.histplot(X_train, x='chol', bins=30)"
   ]
  },
  {
   "cell_type": "code",
   "execution_count": 131,
   "metadata": {},
   "outputs": [
    {
     "data": {
      "text/html": [
       "<div>\n",
       "<style scoped>\n",
       "    .dataframe tbody tr th:only-of-type {\n",
       "        vertical-align: middle;\n",
       "    }\n",
       "\n",
       "    .dataframe tbody tr th {\n",
       "        vertical-align: top;\n",
       "    }\n",
       "\n",
       "    .dataframe thead th {\n",
       "        text-align: right;\n",
       "    }\n",
       "</style>\n",
       "<table border=\"1\" class=\"dataframe\">\n",
       "  <thead>\n",
       "    <tr style=\"text-align: right;\">\n",
       "      <th></th>\n",
       "      <th>age</th>\n",
       "      <th>sex</th>\n",
       "      <th>cp</th>\n",
       "      <th>trestbps</th>\n",
       "      <th>chol_cat</th>\n",
       "      <th>chol</th>\n",
       "      <th>fbs</th>\n",
       "      <th>restecg</th>\n",
       "      <th>thalch</th>\n",
       "      <th>exang</th>\n",
       "      <th>oldpeak</th>\n",
       "      <th>slope</th>\n",
       "    </tr>\n",
       "  </thead>\n",
       "  <tbody>\n",
       "    <tr>\n",
       "      <th>835</th>\n",
       "      <td>64</td>\n",
       "      <td>Male</td>\n",
       "      <td>asymptomatic</td>\n",
       "      <td>132.644833</td>\n",
       "      <td>306.0</td>\n",
       "      <td>306.0</td>\n",
       "      <td>True</td>\n",
       "      <td>st-t abnormality</td>\n",
       "      <td>NaN</td>\n",
       "      <td>NaN</td>\n",
       "      <td>NaN</td>\n",
       "      <td>NaN</td>\n",
       "    </tr>\n",
       "    <tr>\n",
       "      <th>680</th>\n",
       "      <td>61</td>\n",
       "      <td>Male</td>\n",
       "      <td>non-anginal</td>\n",
       "      <td>200.000000</td>\n",
       "      <td>0.0</td>\n",
       "      <td>0.0</td>\n",
       "      <td>NaN</td>\n",
       "      <td>st-t abnormality</td>\n",
       "      <td>70.0</td>\n",
       "      <td>False</td>\n",
       "      <td>0.0</td>\n",
       "      <td>NaN</td>\n",
       "    </tr>\n",
       "    <tr>\n",
       "      <th>725</th>\n",
       "      <td>66</td>\n",
       "      <td>Male</td>\n",
       "      <td>non-anginal</td>\n",
       "      <td>120.000000</td>\n",
       "      <td>0.0</td>\n",
       "      <td>0.0</td>\n",
       "      <td>False</td>\n",
       "      <td>st-t abnormality</td>\n",
       "      <td>120.0</td>\n",
       "      <td>False</td>\n",
       "      <td>-0.5</td>\n",
       "      <td>upsloping</td>\n",
       "    </tr>\n",
       "    <tr>\n",
       "      <th>564</th>\n",
       "      <td>52</td>\n",
       "      <td>Male</td>\n",
       "      <td>asymptomatic</td>\n",
       "      <td>112.000000</td>\n",
       "      <td>342.0</td>\n",
       "      <td>342.0</td>\n",
       "      <td>False</td>\n",
       "      <td>st-t abnormality</td>\n",
       "      <td>96.0</td>\n",
       "      <td>True</td>\n",
       "      <td>1.0</td>\n",
       "      <td>flat</td>\n",
       "    </tr>\n",
       "    <tr>\n",
       "      <th>329</th>\n",
       "      <td>37</td>\n",
       "      <td>Male</td>\n",
       "      <td>asymptomatic</td>\n",
       "      <td>130.000000</td>\n",
       "      <td>315.0</td>\n",
       "      <td>315.0</td>\n",
       "      <td>False</td>\n",
       "      <td>normal</td>\n",
       "      <td>158.0</td>\n",
       "      <td>False</td>\n",
       "      <td>0.0</td>\n",
       "      <td>NaN</td>\n",
       "    </tr>\n",
       "  </tbody>\n",
       "</table>\n",
       "</div>"
      ],
      "text/plain": [
       "     age   sex            cp    trestbps  chol_cat   chol    fbs  \\\n",
       "835   64  Male  asymptomatic  132.644833     306.0  306.0   True   \n",
       "680   61  Male   non-anginal  200.000000       0.0    0.0    NaN   \n",
       "725   66  Male   non-anginal  120.000000       0.0    0.0  False   \n",
       "564   52  Male  asymptomatic  112.000000     342.0  342.0  False   \n",
       "329   37  Male  asymptomatic  130.000000     315.0  315.0  False   \n",
       "\n",
       "              restecg  thalch  exang  oldpeak      slope  \n",
       "835  st-t abnormality     NaN    NaN      NaN        NaN  \n",
       "680  st-t abnormality    70.0  False      0.0        NaN  \n",
       "725  st-t abnormality   120.0  False     -0.5  upsloping  \n",
       "564  st-t abnormality    96.0   True      1.0       flat  \n",
       "329            normal   158.0  False      0.0        NaN  "
      ]
     },
     "execution_count": 131,
     "metadata": {},
     "output_type": "execute_result"
    }
   ],
   "source": [
    "X_train.insert(4, \"chol_cat\", X_train['chol'])\n",
    "X_train.head()"
   ]
  },
  {
   "cell_type": "code",
   "execution_count": 132,
   "metadata": {},
   "outputs": [
    {
     "data": {
      "text/html": [
       "<div>\n",
       "<style scoped>\n",
       "    .dataframe tbody tr th:only-of-type {\n",
       "        vertical-align: middle;\n",
       "    }\n",
       "\n",
       "    .dataframe tbody tr th {\n",
       "        vertical-align: top;\n",
       "    }\n",
       "\n",
       "    .dataframe thead th {\n",
       "        text-align: right;\n",
       "    }\n",
       "</style>\n",
       "<table border=\"1\" class=\"dataframe\">\n",
       "  <thead>\n",
       "    <tr style=\"text-align: right;\">\n",
       "      <th></th>\n",
       "      <th>age</th>\n",
       "      <th>sex</th>\n",
       "      <th>cp</th>\n",
       "      <th>trestbps</th>\n",
       "      <th>chol_cat</th>\n",
       "      <th>chol</th>\n",
       "      <th>fbs</th>\n",
       "      <th>restecg</th>\n",
       "      <th>thalch</th>\n",
       "      <th>exang</th>\n",
       "      <th>oldpeak</th>\n",
       "      <th>slope</th>\n",
       "    </tr>\n",
       "  </thead>\n",
       "  <tbody>\n",
       "    <tr>\n",
       "      <th>835</th>\n",
       "      <td>64</td>\n",
       "      <td>Male</td>\n",
       "      <td>asymptomatic</td>\n",
       "      <td>132.644833</td>\n",
       "      <td>306.0</td>\n",
       "      <td>306.0</td>\n",
       "      <td>True</td>\n",
       "      <td>st-t abnormality</td>\n",
       "      <td>NaN</td>\n",
       "      <td>NaN</td>\n",
       "      <td>NaN</td>\n",
       "      <td>NaN</td>\n",
       "    </tr>\n",
       "    <tr>\n",
       "      <th>680</th>\n",
       "      <td>61</td>\n",
       "      <td>Male</td>\n",
       "      <td>non-anginal</td>\n",
       "      <td>200.000000</td>\n",
       "      <td>0.0</td>\n",
       "      <td>0.0</td>\n",
       "      <td>NaN</td>\n",
       "      <td>st-t abnormality</td>\n",
       "      <td>70.0</td>\n",
       "      <td>False</td>\n",
       "      <td>0.0</td>\n",
       "      <td>NaN</td>\n",
       "    </tr>\n",
       "    <tr>\n",
       "      <th>725</th>\n",
       "      <td>66</td>\n",
       "      <td>Male</td>\n",
       "      <td>non-anginal</td>\n",
       "      <td>120.000000</td>\n",
       "      <td>0.0</td>\n",
       "      <td>0.0</td>\n",
       "      <td>False</td>\n",
       "      <td>st-t abnormality</td>\n",
       "      <td>120.0</td>\n",
       "      <td>False</td>\n",
       "      <td>-0.5</td>\n",
       "      <td>upsloping</td>\n",
       "    </tr>\n",
       "    <tr>\n",
       "      <th>564</th>\n",
       "      <td>52</td>\n",
       "      <td>Male</td>\n",
       "      <td>asymptomatic</td>\n",
       "      <td>112.000000</td>\n",
       "      <td>342.0</td>\n",
       "      <td>342.0</td>\n",
       "      <td>False</td>\n",
       "      <td>st-t abnormality</td>\n",
       "      <td>96.0</td>\n",
       "      <td>True</td>\n",
       "      <td>1.0</td>\n",
       "      <td>flat</td>\n",
       "    </tr>\n",
       "    <tr>\n",
       "      <th>329</th>\n",
       "      <td>37</td>\n",
       "      <td>Male</td>\n",
       "      <td>asymptomatic</td>\n",
       "      <td>130.000000</td>\n",
       "      <td>315.0</td>\n",
       "      <td>315.0</td>\n",
       "      <td>False</td>\n",
       "      <td>normal</td>\n",
       "      <td>158.0</td>\n",
       "      <td>False</td>\n",
       "      <td>0.0</td>\n",
       "      <td>NaN</td>\n",
       "    </tr>\n",
       "  </tbody>\n",
       "</table>\n",
       "</div>"
      ],
      "text/plain": [
       "     age   sex            cp    trestbps  chol_cat   chol    fbs  \\\n",
       "835   64  Male  asymptomatic  132.644833     306.0  306.0   True   \n",
       "680   61  Male   non-anginal  200.000000       0.0    0.0    NaN   \n",
       "725   66  Male   non-anginal  120.000000       0.0    0.0  False   \n",
       "564   52  Male  asymptomatic  112.000000     342.0  342.0  False   \n",
       "329   37  Male  asymptomatic  130.000000     315.0  315.0  False   \n",
       "\n",
       "              restecg  thalch  exang  oldpeak      slope  \n",
       "835  st-t abnormality     NaN    NaN      NaN        NaN  \n",
       "680  st-t abnormality    70.0  False      0.0        NaN  \n",
       "725  st-t abnormality   120.0  False     -0.5  upsloping  \n",
       "564  st-t abnormality    96.0   True      1.0       flat  \n",
       "329            normal   158.0  False      0.0        NaN  "
      ]
     },
     "execution_count": 132,
     "metadata": {},
     "output_type": "execute_result"
    }
   ],
   "source": [
    "X_train.head()"
   ]
  },
  {
   "cell_type": "code",
   "execution_count": 133,
   "metadata": {},
   "outputs": [
    {
     "name": "stderr",
     "output_type": "stream",
     "text": [
      "/var/folders/vc/dhymnk052dz8zs7gq81kypgw0000gn/T/ipykernel_32284/1210862586.py:1: SettingWithCopyWarning: \n",
      "A value is trying to be set on a copy of a slice from a DataFrame\n",
      "\n",
      "See the caveats in the documentation: https://pandas.pydata.org/pandas-docs/stable/user_guide/indexing.html#returning-a-view-versus-a-copy\n",
      "  X_train['chol_cat'].loc[(X_train['chol'] < 240)] = 'risk'\n"
     ]
    }
   ],
   "source": [
    "X_train['chol_cat'].loc[(X_train['chol'] < 240)] = 'risk'\n",
    "X_train['chol_cat'].loc[(X_train['chol'] >= 240)] = 'danger'\n",
    "X_train['chol_cat'].loc[(X_train['chol'] < 200)] = 'healthy'"
   ]
  },
  {
   "cell_type": "code",
   "execution_count": 134,
   "metadata": {},
   "outputs": [
    {
     "data": {
      "text/html": [
       "<div>\n",
       "<style scoped>\n",
       "    .dataframe tbody tr th:only-of-type {\n",
       "        vertical-align: middle;\n",
       "    }\n",
       "\n",
       "    .dataframe tbody tr th {\n",
       "        vertical-align: top;\n",
       "    }\n",
       "\n",
       "    .dataframe thead th {\n",
       "        text-align: right;\n",
       "    }\n",
       "</style>\n",
       "<table border=\"1\" class=\"dataframe\">\n",
       "  <thead>\n",
       "    <tr style=\"text-align: right;\">\n",
       "      <th></th>\n",
       "      <th>age</th>\n",
       "      <th>sex</th>\n",
       "      <th>cp</th>\n",
       "      <th>trestbps</th>\n",
       "      <th>chol_cat</th>\n",
       "      <th>chol</th>\n",
       "      <th>fbs</th>\n",
       "      <th>restecg</th>\n",
       "      <th>thalch</th>\n",
       "      <th>exang</th>\n",
       "      <th>oldpeak</th>\n",
       "      <th>slope</th>\n",
       "    </tr>\n",
       "  </thead>\n",
       "  <tbody>\n",
       "    <tr>\n",
       "      <th>441</th>\n",
       "      <td>53</td>\n",
       "      <td>Male</td>\n",
       "      <td>asymptomatic</td>\n",
       "      <td>130.000000</td>\n",
       "      <td>healthy</td>\n",
       "      <td>182.0</td>\n",
       "      <td>False</td>\n",
       "      <td>normal</td>\n",
       "      <td>148.0</td>\n",
       "      <td>False</td>\n",
       "      <td>0.0</td>\n",
       "      <td>NaN</td>\n",
       "    </tr>\n",
       "    <tr>\n",
       "      <th>326</th>\n",
       "      <td>37</td>\n",
       "      <td>Male</td>\n",
       "      <td>atypical angina</td>\n",
       "      <td>130.000000</td>\n",
       "      <td>danger</td>\n",
       "      <td>283.0</td>\n",
       "      <td>False</td>\n",
       "      <td>st-t abnormality</td>\n",
       "      <td>98.0</td>\n",
       "      <td>False</td>\n",
       "      <td>0.0</td>\n",
       "      <td>NaN</td>\n",
       "    </tr>\n",
       "    <tr>\n",
       "      <th>905</th>\n",
       "      <td>61</td>\n",
       "      <td>Male</td>\n",
       "      <td>non-anginal</td>\n",
       "      <td>132.644833</td>\n",
       "      <td>danger</td>\n",
       "      <td>284.0</td>\n",
       "      <td>False</td>\n",
       "      <td>normal</td>\n",
       "      <td>NaN</td>\n",
       "      <td>NaN</td>\n",
       "      <td>NaN</td>\n",
       "      <td>NaN</td>\n",
       "    </tr>\n",
       "    <tr>\n",
       "      <th>866</th>\n",
       "      <td>59</td>\n",
       "      <td>Male</td>\n",
       "      <td>asymptomatic</td>\n",
       "      <td>140.000000</td>\n",
       "      <td>danger</td>\n",
       "      <td>274.0</td>\n",
       "      <td>False</td>\n",
       "      <td>normal</td>\n",
       "      <td>154.0</td>\n",
       "      <td>True</td>\n",
       "      <td>2.0</td>\n",
       "      <td>flat</td>\n",
       "    </tr>\n",
       "    <tr>\n",
       "      <th>151</th>\n",
       "      <td>42</td>\n",
       "      <td>Female</td>\n",
       "      <td>asymptomatic</td>\n",
       "      <td>102.000000</td>\n",
       "      <td>danger</td>\n",
       "      <td>265.0</td>\n",
       "      <td>False</td>\n",
       "      <td>lv hypertrophy</td>\n",
       "      <td>122.0</td>\n",
       "      <td>False</td>\n",
       "      <td>0.6</td>\n",
       "      <td>flat</td>\n",
       "    </tr>\n",
       "    <tr>\n",
       "      <th>838</th>\n",
       "      <td>59</td>\n",
       "      <td>Male</td>\n",
       "      <td>asymptomatic</td>\n",
       "      <td>125.000000</td>\n",
       "      <td>risk</td>\n",
       "      <td>222.0</td>\n",
       "      <td>False</td>\n",
       "      <td>normal</td>\n",
       "      <td>135.0</td>\n",
       "      <td>True</td>\n",
       "      <td>2.5</td>\n",
       "      <td>downsloping</td>\n",
       "    </tr>\n",
       "    <tr>\n",
       "      <th>766</th>\n",
       "      <td>59</td>\n",
       "      <td>Male</td>\n",
       "      <td>asymptomatic</td>\n",
       "      <td>122.000000</td>\n",
       "      <td>risk</td>\n",
       "      <td>233.0</td>\n",
       "      <td>False</td>\n",
       "      <td>normal</td>\n",
       "      <td>117.0</td>\n",
       "      <td>True</td>\n",
       "      <td>1.3</td>\n",
       "      <td>downsloping</td>\n",
       "    </tr>\n",
       "  </tbody>\n",
       "</table>\n",
       "</div>"
      ],
      "text/plain": [
       "     age     sex               cp    trestbps chol_cat   chol    fbs  \\\n",
       "441   53    Male     asymptomatic  130.000000  healthy  182.0  False   \n",
       "326   37    Male  atypical angina  130.000000   danger  283.0  False   \n",
       "905   61    Male      non-anginal  132.644833   danger  284.0  False   \n",
       "866   59    Male     asymptomatic  140.000000   danger  274.0  False   \n",
       "151   42  Female     asymptomatic  102.000000   danger  265.0  False   \n",
       "838   59    Male     asymptomatic  125.000000     risk  222.0  False   \n",
       "766   59    Male     asymptomatic  122.000000     risk  233.0  False   \n",
       "\n",
       "              restecg  thalch  exang  oldpeak        slope  \n",
       "441            normal   148.0  False      0.0          NaN  \n",
       "326  st-t abnormality    98.0  False      0.0          NaN  \n",
       "905            normal     NaN    NaN      NaN          NaN  \n",
       "866            normal   154.0   True      2.0         flat  \n",
       "151    lv hypertrophy   122.0  False      0.6         flat  \n",
       "838            normal   135.0   True      2.5  downsloping  \n",
       "766            normal   117.0   True      1.3  downsloping  "
      ]
     },
     "execution_count": 134,
     "metadata": {},
     "output_type": "execute_result"
    }
   ],
   "source": [
    "X_train.iloc[5:12]"
   ]
  },
  {
   "cell_type": "markdown",
   "metadata": {},
   "source": [
    "### Data Cleaning fbs & Data Exploration (I)"
   ]
  },
  {
   "cell_type": "code",
   "execution_count": 135,
   "metadata": {},
   "outputs": [
    {
     "name": "stderr",
     "output_type": "stream",
     "text": [
      "/Users/angel.bujalance/opt/anaconda3/lib/python3.9/site-packages/seaborn/distributions.py:461: FutureWarning: In a future version, the Index constructor will not infer numeric dtypes when passed object-dtype sequences (matching Series behavior)\n",
      "  pd.Index(edges, name=\"edges\"),\n",
      "/Users/angel.bujalance/opt/anaconda3/lib/python3.9/site-packages/seaborn/distributions.py:462: FutureWarning: In a future version, the Index constructor will not infer numeric dtypes when passed object-dtype sequences (matching Series behavior)\n",
      "  pd.Index(widths, name=\"widths\"),\n"
     ]
    },
    {
     "data": {
      "text/plain": [
       "<AxesSubplot:xlabel='fbs', ylabel='Count'>"
      ]
     },
     "execution_count": 135,
     "metadata": {},
     "output_type": "execute_result"
    },
    {
     "data": {
      "image/png": "[encoded data removed]",
      "text/plain": [
       "<Figure size 432x288 with 1 Axes>"
      ]
     },
     "metadata": {
      "needs_background": "light"
     },
     "output_type": "display_data"
    }
   ],
   "source": [
    "sns.histplot(X_train, x='fbs', bins=30)"
   ]
  },
  {
   "cell_type": "markdown",
   "metadata": {},
   "source": [
    "En este caso se trata de un ejemplo de variable binaria. Para asignar los missing values, podríamos elaborar diferentes estrategias. Por ejemplo, podríamos asignar las instancias con valores perdidos a la categoría más frecuente. Otra alternativa es generar un modelo con el resto de valores y predecir los valores nulos. En este caso, voy a usar esta estrategia. Primero, voy a limpiar y asegurarme que no hay valores nulos en el resto de variables y después continuaré con la limpieza de esta variable.\n",
    "\n",
    "En este caso, sólo quiero mostrar que se pueden utilizar modelos de Machine Learning durante la fase de limpieza de datos para predecir los valores nulos, pero no voy a centrarme en los aspectos formales de los modelos para mejorar su rendimiento."
   ]
  },
  {
   "cell_type": "markdown",
   "metadata": {},
   "source": [
    "### Data Cleaning restecg & Data Exploration"
   ]
  },
  {
   "cell_type": "code",
   "execution_count": 136,
   "metadata": {},
   "outputs": [
    {
     "data": {
      "text/plain": [
       "<AxesSubplot:xlabel='restecg', ylabel='Count'>"
      ]
     },
     "execution_count": 136,
     "metadata": {},
     "output_type": "execute_result"
    },
    {
     "data": {
      "image/png": "[encoded data removed]",
      "text/plain": [
       "<Figure size 432x288 with 1 Axes>"
      ]
     },
     "metadata": {
      "needs_background": "light"
     },
     "output_type": "display_data"
    }
   ],
   "source": [
    "sns.histplot(X_train, x='restecg', bins=30)"
   ]
  },
  {
   "cell_type": "markdown",
   "metadata": {},
   "source": [
    "En este caso, al haber un único valor nulo, voy a asignarlo a la categoría mayoritaria."
   ]
  },
  {
   "cell_type": "code",
   "execution_count": 137,
   "metadata": {},
   "outputs": [
    {
     "name": "stdout",
     "output_type": "stream",
     "text": [
      "{nan, 'lv hypertrophy', 'st-t abnormality', 'normal'}\n"
     ]
    }
   ],
   "source": [
    "print(set(X_train.restecg))\n",
    "\n",
    "X_train['restecg'] = X_train['restecg'].fillna('normal')"
   ]
  },
  {
   "cell_type": "markdown",
   "metadata": {},
   "source": [
    "### Data Cleaning thalch & Data Exploration"
   ]
  },
  {
   "cell_type": "code",
   "execution_count": 138,
   "metadata": {},
   "outputs": [
    {
     "data": {
      "text/plain": [
       "<AxesSubplot:xlabel='thalch', ylabel='Count'>"
      ]
     },
     "execution_count": 138,
     "metadata": {},
     "output_type": "execute_result"
    },
    {
     "data": {
      "image/png": "[encoded data removed]",
      "text/plain": [
       "<Figure size 432x288 with 1 Axes>"
      ]
     },
     "metadata": {
      "needs_background": "light"
     },
     "output_type": "display_data"
    }
   ],
   "source": [
    "sns.histplot(X_train, x='thalch', bins=20)"
   ]
  },
  {
   "cell_type": "markdown",
   "metadata": {},
   "source": [
    "De nuevo tenemos una variable numérica que sigue una distribución normal, en este caso voy a substituir los valores nulos por el valor medio."
   ]
  },
  {
   "cell_type": "code",
   "execution_count": 139,
   "metadata": {},
   "outputs": [
    {
     "name": "stdout",
     "output_type": "stream",
     "text": [
      "137.3231884057971\n"
     ]
    }
   ],
   "source": [
    "thalch_mean = np.mean(X_train.thalch)\n",
    "print(thalch_mean)\n",
    "\n",
    "X_train['thalch'] = X_train['thalch'].fillna(thalch_mean)"
   ]
  },
  {
   "cell_type": "markdown",
   "metadata": {},
   "source": [
    "### Data Cleaning exang & Data Exploration"
   ]
  },
  {
   "cell_type": "code",
   "execution_count": 140,
   "metadata": {},
   "outputs": [
    {
     "name": "stderr",
     "output_type": "stream",
     "text": [
      "/Users/angel.bujalance/opt/anaconda3/lib/python3.9/site-packages/seaborn/distributions.py:461: FutureWarning: In a future version, the Index constructor will not infer numeric dtypes when passed object-dtype sequences (matching Series behavior)\n",
      "  pd.Index(edges, name=\"edges\"),\n",
      "/Users/angel.bujalance/opt/anaconda3/lib/python3.9/site-packages/seaborn/distributions.py:462: FutureWarning: In a future version, the Index constructor will not infer numeric dtypes when passed object-dtype sequences (matching Series behavior)\n",
      "  pd.Index(widths, name=\"widths\"),\n"
     ]
    },
    {
     "data": {
      "text/plain": [
       "<AxesSubplot:xlabel='exang', ylabel='Count'>"
      ]
     },
     "execution_count": 140,
     "metadata": {},
     "output_type": "execute_result"
    },
    {
     "data": {
      "image/png": "[encoded data removed]",
      "text/plain": [
       "<Figure size 432x288 with 1 Axes>"
      ]
     },
     "metadata": {
      "needs_background": "light"
     },
     "output_type": "display_data"
    }
   ],
   "source": [
    "sns.histplot(X_train, x='exang', bins=20)"
   ]
  },
  {
   "cell_type": "markdown",
   "metadata": {},
   "source": [
    "En este caso, voy a volver a utilizar el valor más frecuente para rellenar los NaN values."
   ]
  },
  {
   "cell_type": "code",
   "execution_count": 141,
   "metadata": {},
   "outputs": [
    {
     "name": "stdout",
     "output_type": "stream",
     "text": [
      "{nan, False, True}\n"
     ]
    }
   ],
   "source": [
    "print(set(X_train['exang']))\n",
    "X_train['exang'] = X_train['exang'].fillna('False')"
   ]
  },
  {
   "cell_type": "markdown",
   "metadata": {},
   "source": [
    "### Data Cleaning oldpeak & Data Exploration"
   ]
  },
  {
   "cell_type": "code",
   "execution_count": 142,
   "metadata": {},
   "outputs": [
    {
     "data": {
      "text/plain": [
       "<AxesSubplot:xlabel='oldpeak', ylabel='Count'>"
      ]
     },
     "execution_count": 142,
     "metadata": {},
     "output_type": "execute_result"
    },
    {
     "data": {
      "image/png": "[encoded data removed]",
      "text/plain": [
       "<Figure size 432x288 with 1 Axes>"
      ]
     },
     "metadata": {
      "needs_background": "light"
     },
     "output_type": "display_data"
    }
   ],
   "source": [
    "sns.histplot(X_train, x='oldpeak', bins=20)"
   ]
  },
  {
   "cell_type": "markdown",
   "metadata": {},
   "source": [
    "De nuevo tenemos una variable numérica que no sigue distribución normal, en este caso voy a substituir los valores nulos por la mediana."
   ]
  },
  {
   "cell_type": "code",
   "execution_count": 143,
   "metadata": {},
   "outputs": [
    {
     "name": "stdout",
     "output_type": "stream",
     "text": [
      "0.5\n"
     ]
    }
   ],
   "source": [
    "oldpeak = X_train['oldpeak'][X_train['oldpeak'].notnull()].to_numpy().reshape(-1,1)\n",
    "\n",
    "oldpeak_median = np.median(oldpeak)\n",
    "print(oldpeak_median)\n",
    "\n",
    "X_train['oldpeak'] = X_train['oldpeak'].fillna(oldpeak_median)"
   ]
  },
  {
   "cell_type": "markdown",
   "metadata": {},
   "source": [
    "### Data Cleaning slope & Data Exploration"
   ]
  },
  {
   "cell_type": "code",
   "execution_count": 144,
   "metadata": {},
   "outputs": [
    {
     "data": {
      "text/plain": [
       "<AxesSubplot:xlabel='slope', ylabel='Count'>"
      ]
     },
     "execution_count": 144,
     "metadata": {},
     "output_type": "execute_result"
    },
    {
     "data": {
      "image/png": "[encoded data removed]",
      "text/plain": [
       "<Figure size 432x288 with 1 Axes>"
      ]
     },
     "metadata": {
      "needs_background": "light"
     },
     "output_type": "display_data"
    }
   ],
   "source": [
    "sns.histplot(X_train, x='slope', bins=20)"
   ]
  },
  {
   "cell_type": "markdown",
   "metadata": {},
   "source": [
    "En este caso, al tratarse de muchos valores nulos, podemos simplemente eliminar este atributo. He decidido hacer esto porque utilizar otro método podía introducir mucho ruido en esta variable."
   ]
  },
  {
   "cell_type": "code",
   "execution_count": 145,
   "metadata": {},
   "outputs": [],
   "source": [
    "X_train = X_train.drop(columns=['slope'])"
   ]
  },
  {
   "cell_type": "markdown",
   "metadata": {},
   "source": [
    "### Data Cleaning fbs & Data Exploration (II)"
   ]
  },
  {
   "cell_type": "code",
   "execution_count": 146,
   "metadata": {},
   "outputs": [
    {
     "data": {
      "text/plain": [
       "fbs    73\n",
       "dtype: int64"
      ]
     },
     "execution_count": 146,
     "metadata": {},
     "output_type": "execute_result"
    }
   ],
   "source": [
    "X_train.isna().sum()[X_train.isna().sum() > 0] # show nan of cols with nan"
   ]
  },
  {
   "cell_type": "code",
   "execution_count": 147,
   "metadata": {},
   "outputs": [
    {
     "data": {
      "text/html": [
       "<div>\n",
       "<style scoped>\n",
       "    .dataframe tbody tr th:only-of-type {\n",
       "        vertical-align: middle;\n",
       "    }\n",
       "\n",
       "    .dataframe tbody tr th {\n",
       "        vertical-align: top;\n",
       "    }\n",
       "\n",
       "    .dataframe thead th {\n",
       "        text-align: right;\n",
       "    }\n",
       "</style>\n",
       "<table border=\"1\" class=\"dataframe\">\n",
       "  <thead>\n",
       "    <tr style=\"text-align: right;\">\n",
       "      <th></th>\n",
       "      <th>age</th>\n",
       "      <th>sex</th>\n",
       "      <th>cp</th>\n",
       "      <th>trestbps</th>\n",
       "      <th>chol_cat</th>\n",
       "      <th>chol</th>\n",
       "      <th>fbs</th>\n",
       "      <th>restecg</th>\n",
       "      <th>thalch</th>\n",
       "      <th>exang</th>\n",
       "      <th>oldpeak</th>\n",
       "    </tr>\n",
       "  </thead>\n",
       "  <tbody>\n",
       "    <tr>\n",
       "      <th>835</th>\n",
       "      <td>64</td>\n",
       "      <td>Male</td>\n",
       "      <td>asymptomatic</td>\n",
       "      <td>132.644833</td>\n",
       "      <td>danger</td>\n",
       "      <td>306.0</td>\n",
       "      <td>True</td>\n",
       "      <td>st-t abnormality</td>\n",
       "      <td>137.323188</td>\n",
       "      <td>False</td>\n",
       "      <td>0.5</td>\n",
       "    </tr>\n",
       "    <tr>\n",
       "      <th>680</th>\n",
       "      <td>61</td>\n",
       "      <td>Male</td>\n",
       "      <td>non-anginal</td>\n",
       "      <td>200.000000</td>\n",
       "      <td>healthy</td>\n",
       "      <td>0.0</td>\n",
       "      <td>NaN</td>\n",
       "      <td>st-t abnormality</td>\n",
       "      <td>70.000000</td>\n",
       "      <td>False</td>\n",
       "      <td>0.0</td>\n",
       "    </tr>\n",
       "    <tr>\n",
       "      <th>725</th>\n",
       "      <td>66</td>\n",
       "      <td>Male</td>\n",
       "      <td>non-anginal</td>\n",
       "      <td>120.000000</td>\n",
       "      <td>healthy</td>\n",
       "      <td>0.0</td>\n",
       "      <td>False</td>\n",
       "      <td>st-t abnormality</td>\n",
       "      <td>120.000000</td>\n",
       "      <td>False</td>\n",
       "      <td>-0.5</td>\n",
       "    </tr>\n",
       "    <tr>\n",
       "      <th>564</th>\n",
       "      <td>52</td>\n",
       "      <td>Male</td>\n",
       "      <td>asymptomatic</td>\n",
       "      <td>112.000000</td>\n",
       "      <td>danger</td>\n",
       "      <td>342.0</td>\n",
       "      <td>False</td>\n",
       "      <td>st-t abnormality</td>\n",
       "      <td>96.000000</td>\n",
       "      <td>True</td>\n",
       "      <td>1.0</td>\n",
       "    </tr>\n",
       "    <tr>\n",
       "      <th>329</th>\n",
       "      <td>37</td>\n",
       "      <td>Male</td>\n",
       "      <td>asymptomatic</td>\n",
       "      <td>130.000000</td>\n",
       "      <td>danger</td>\n",
       "      <td>315.0</td>\n",
       "      <td>False</td>\n",
       "      <td>normal</td>\n",
       "      <td>158.000000</td>\n",
       "      <td>False</td>\n",
       "      <td>0.0</td>\n",
       "    </tr>\n",
       "  </tbody>\n",
       "</table>\n",
       "</div>"
      ],
      "text/plain": [
       "     age   sex            cp    trestbps chol_cat   chol    fbs  \\\n",
       "835   64  Male  asymptomatic  132.644833   danger  306.0   True   \n",
       "680   61  Male   non-anginal  200.000000  healthy    0.0    NaN   \n",
       "725   66  Male   non-anginal  120.000000  healthy    0.0  False   \n",
       "564   52  Male  asymptomatic  112.000000   danger  342.0  False   \n",
       "329   37  Male  asymptomatic  130.000000   danger  315.0  False   \n",
       "\n",
       "              restecg      thalch  exang  oldpeak  \n",
       "835  st-t abnormality  137.323188  False      0.5  \n",
       "680  st-t abnormality   70.000000  False      0.0  \n",
       "725  st-t abnormality  120.000000  False     -0.5  \n",
       "564  st-t abnormality   96.000000   True      1.0  \n",
       "329            normal  158.000000  False      0.0  "
      ]
     },
     "execution_count": 147,
     "metadata": {},
     "output_type": "execute_result"
    }
   ],
   "source": [
    "X_train.head()"
   ]
  },
  {
   "cell_type": "markdown",
   "metadata": {},
   "source": [
    "Antes de esto vamos a tener que transformar los datos categoricos en variables dummies y normalizar los datos numéricos.\n",
    "\n",
    "### Transformación de los datos"
   ]
  },
  {
   "cell_type": "code",
   "execution_count": 148,
   "metadata": {},
   "outputs": [
    {
     "data": {
      "text/html": [
       "<div>\n",
       "<style scoped>\n",
       "    .dataframe tbody tr th:only-of-type {\n",
       "        vertical-align: middle;\n",
       "    }\n",
       "\n",
       "    .dataframe tbody tr th {\n",
       "        vertical-align: top;\n",
       "    }\n",
       "\n",
       "    .dataframe thead th {\n",
       "        text-align: right;\n",
       "    }\n",
       "</style>\n",
       "<table border=\"1\" class=\"dataframe\">\n",
       "  <thead>\n",
       "    <tr style=\"text-align: right;\">\n",
       "      <th></th>\n",
       "      <th>cp</th>\n",
       "      <th>sex</th>\n",
       "      <th>chol_cat</th>\n",
       "      <th>restecg</th>\n",
       "      <th>exang</th>\n",
       "    </tr>\n",
       "  </thead>\n",
       "  <tbody>\n",
       "    <tr>\n",
       "      <th>835</th>\n",
       "      <td>asymptomatic</td>\n",
       "      <td>Male</td>\n",
       "      <td>danger</td>\n",
       "      <td>st-t abnormality</td>\n",
       "      <td>False</td>\n",
       "    </tr>\n",
       "    <tr>\n",
       "      <th>680</th>\n",
       "      <td>non-anginal</td>\n",
       "      <td>Male</td>\n",
       "      <td>healthy</td>\n",
       "      <td>st-t abnormality</td>\n",
       "      <td>False</td>\n",
       "    </tr>\n",
       "    <tr>\n",
       "      <th>725</th>\n",
       "      <td>non-anginal</td>\n",
       "      <td>Male</td>\n",
       "      <td>healthy</td>\n",
       "      <td>st-t abnormality</td>\n",
       "      <td>False</td>\n",
       "    </tr>\n",
       "    <tr>\n",
       "      <th>564</th>\n",
       "      <td>asymptomatic</td>\n",
       "      <td>Male</td>\n",
       "      <td>danger</td>\n",
       "      <td>st-t abnormality</td>\n",
       "      <td>True</td>\n",
       "    </tr>\n",
       "    <tr>\n",
       "      <th>329</th>\n",
       "      <td>asymptomatic</td>\n",
       "      <td>Male</td>\n",
       "      <td>danger</td>\n",
       "      <td>normal</td>\n",
       "      <td>False</td>\n",
       "    </tr>\n",
       "  </tbody>\n",
       "</table>\n",
       "</div>"
      ],
      "text/plain": [
       "               cp   sex chol_cat           restecg  exang\n",
       "835  asymptomatic  Male   danger  st-t abnormality  False\n",
       "680   non-anginal  Male  healthy  st-t abnormality  False\n",
       "725   non-anginal  Male  healthy  st-t abnormality  False\n",
       "564  asymptomatic  Male   danger  st-t abnormality   True\n",
       "329  asymptomatic  Male   danger            normal  False"
      ]
     },
     "execution_count": 148,
     "metadata": {},
     "output_type": "execute_result"
    }
   ],
   "source": [
    "X_train_cat = X_train[['cp', 'sex', 'chol_cat', 'restecg', 'exang']]\n",
    "X_train_cat.head()"
   ]
  },
  {
   "cell_type": "code",
   "execution_count": 149,
   "metadata": {},
   "outputs": [
    {
     "data": {
      "text/html": [
       "<div>\n",
       "<style scoped>\n",
       "    .dataframe tbody tr th:only-of-type {\n",
       "        vertical-align: middle;\n",
       "    }\n",
       "\n",
       "    .dataframe tbody tr th {\n",
       "        vertical-align: top;\n",
       "    }\n",
       "\n",
       "    .dataframe thead th {\n",
       "        text-align: right;\n",
       "    }\n",
       "</style>\n",
       "<table border=\"1\" class=\"dataframe\">\n",
       "  <thead>\n",
       "    <tr style=\"text-align: right;\">\n",
       "      <th></th>\n",
       "      <th>age</th>\n",
       "      <th>trestbps</th>\n",
       "      <th>thalch</th>\n",
       "      <th>oldpeak</th>\n",
       "    </tr>\n",
       "  </thead>\n",
       "  <tbody>\n",
       "    <tr>\n",
       "      <th>835</th>\n",
       "      <td>64</td>\n",
       "      <td>132.644833</td>\n",
       "      <td>137.323188</td>\n",
       "      <td>0.5</td>\n",
       "    </tr>\n",
       "    <tr>\n",
       "      <th>680</th>\n",
       "      <td>61</td>\n",
       "      <td>200.000000</td>\n",
       "      <td>70.000000</td>\n",
       "      <td>0.0</td>\n",
       "    </tr>\n",
       "    <tr>\n",
       "      <th>725</th>\n",
       "      <td>66</td>\n",
       "      <td>120.000000</td>\n",
       "      <td>120.000000</td>\n",
       "      <td>-0.5</td>\n",
       "    </tr>\n",
       "    <tr>\n",
       "      <th>564</th>\n",
       "      <td>52</td>\n",
       "      <td>112.000000</td>\n",
       "      <td>96.000000</td>\n",
       "      <td>1.0</td>\n",
       "    </tr>\n",
       "    <tr>\n",
       "      <th>329</th>\n",
       "      <td>37</td>\n",
       "      <td>130.000000</td>\n",
       "      <td>158.000000</td>\n",
       "      <td>0.0</td>\n",
       "    </tr>\n",
       "  </tbody>\n",
       "</table>\n",
       "</div>"
      ],
      "text/plain": [
       "     age    trestbps      thalch  oldpeak\n",
       "835   64  132.644833  137.323188      0.5\n",
       "680   61  200.000000   70.000000      0.0\n",
       "725   66  120.000000  120.000000     -0.5\n",
       "564   52  112.000000   96.000000      1.0\n",
       "329   37  130.000000  158.000000      0.0"
      ]
     },
     "execution_count": 149,
     "metadata": {},
     "output_type": "execute_result"
    }
   ],
   "source": [
    "X_train_num = X_train[['age', 'trestbps', 'thalch', 'oldpeak']]\n",
    "X_train_num.head()"
   ]
  },
  {
   "cell_type": "code",
   "execution_count": 150,
   "metadata": {},
   "outputs": [
    {
     "data": {
      "text/html": [
       "<div>\n",
       "<style scoped>\n",
       "    .dataframe tbody tr th:only-of-type {\n",
       "        vertical-align: middle;\n",
       "    }\n",
       "\n",
       "    .dataframe tbody tr th {\n",
       "        vertical-align: top;\n",
       "    }\n",
       "\n",
       "    .dataframe thead th {\n",
       "        text-align: right;\n",
       "    }\n",
       "</style>\n",
       "<table border=\"1\" class=\"dataframe\">\n",
       "  <thead>\n",
       "    <tr style=\"text-align: right;\">\n",
       "      <th></th>\n",
       "      <th>cp_asymptomatic</th>\n",
       "      <th>cp_atypical angina</th>\n",
       "      <th>cp_non-anginal</th>\n",
       "      <th>cp_typical angina</th>\n",
       "      <th>sex_Female</th>\n",
       "      <th>sex_Male</th>\n",
       "      <th>chol_cat_danger</th>\n",
       "      <th>chol_cat_healthy</th>\n",
       "      <th>chol_cat_risk</th>\n",
       "      <th>restecg_lv hypertrophy</th>\n",
       "      <th>restecg_normal</th>\n",
       "      <th>restecg_st-t abnormality</th>\n",
       "      <th>exang_False</th>\n",
       "      <th>exang_True</th>\n",
       "      <th>exang_False</th>\n",
       "    </tr>\n",
       "  </thead>\n",
       "  <tbody>\n",
       "    <tr>\n",
       "      <th>835</th>\n",
       "      <td>1</td>\n",
       "      <td>0</td>\n",
       "      <td>0</td>\n",
       "      <td>0</td>\n",
       "      <td>0</td>\n",
       "      <td>1</td>\n",
       "      <td>1</td>\n",
       "      <td>0</td>\n",
       "      <td>0</td>\n",
       "      <td>0</td>\n",
       "      <td>0</td>\n",
       "      <td>1</td>\n",
       "      <td>0</td>\n",
       "      <td>0</td>\n",
       "      <td>1</td>\n",
       "    </tr>\n",
       "    <tr>\n",
       "      <th>680</th>\n",
       "      <td>0</td>\n",
       "      <td>0</td>\n",
       "      <td>1</td>\n",
       "      <td>0</td>\n",
       "      <td>0</td>\n",
       "      <td>1</td>\n",
       "      <td>0</td>\n",
       "      <td>1</td>\n",
       "      <td>0</td>\n",
       "      <td>0</td>\n",
       "      <td>0</td>\n",
       "      <td>1</td>\n",
       "      <td>1</td>\n",
       "      <td>0</td>\n",
       "      <td>0</td>\n",
       "    </tr>\n",
       "    <tr>\n",
       "      <th>725</th>\n",
       "      <td>0</td>\n",
       "      <td>0</td>\n",
       "      <td>1</td>\n",
       "      <td>0</td>\n",
       "      <td>0</td>\n",
       "      <td>1</td>\n",
       "      <td>0</td>\n",
       "      <td>1</td>\n",
       "      <td>0</td>\n",
       "      <td>0</td>\n",
       "      <td>0</td>\n",
       "      <td>1</td>\n",
       "      <td>1</td>\n",
       "      <td>0</td>\n",
       "      <td>0</td>\n",
       "    </tr>\n",
       "    <tr>\n",
       "      <th>564</th>\n",
       "      <td>1</td>\n",
       "      <td>0</td>\n",
       "      <td>0</td>\n",
       "      <td>0</td>\n",
       "      <td>0</td>\n",
       "      <td>1</td>\n",
       "      <td>1</td>\n",
       "      <td>0</td>\n",
       "      <td>0</td>\n",
       "      <td>0</td>\n",
       "      <td>0</td>\n",
       "      <td>1</td>\n",
       "      <td>0</td>\n",
       "      <td>1</td>\n",
       "      <td>0</td>\n",
       "    </tr>\n",
       "    <tr>\n",
       "      <th>329</th>\n",
       "      <td>1</td>\n",
       "      <td>0</td>\n",
       "      <td>0</td>\n",
       "      <td>0</td>\n",
       "      <td>0</td>\n",
       "      <td>1</td>\n",
       "      <td>1</td>\n",
       "      <td>0</td>\n",
       "      <td>0</td>\n",
       "      <td>0</td>\n",
       "      <td>1</td>\n",
       "      <td>0</td>\n",
       "      <td>1</td>\n",
       "      <td>0</td>\n",
       "      <td>0</td>\n",
       "    </tr>\n",
       "  </tbody>\n",
       "</table>\n",
       "</div>"
      ],
      "text/plain": [
       "     cp_asymptomatic  cp_atypical angina  cp_non-anginal  cp_typical angina  \\\n",
       "835                1                   0               0                  0   \n",
       "680                0                   0               1                  0   \n",
       "725                0                   0               1                  0   \n",
       "564                1                   0               0                  0   \n",
       "329                1                   0               0                  0   \n",
       "\n",
       "     sex_Female  sex_Male  chol_cat_danger  chol_cat_healthy  chol_cat_risk  \\\n",
       "835           0         1                1                 0              0   \n",
       "680           0         1                0                 1              0   \n",
       "725           0         1                0                 1              0   \n",
       "564           0         1                1                 0              0   \n",
       "329           0         1                1                 0              0   \n",
       "\n",
       "     restecg_lv hypertrophy  restecg_normal  restecg_st-t abnormality  \\\n",
       "835                       0               0                         1   \n",
       "680                       0               0                         1   \n",
       "725                       0               0                         1   \n",
       "564                       0               0                         1   \n",
       "329                       0               1                         0   \n",
       "\n",
       "     exang_False  exang_True  exang_False  \n",
       "835            0           0            1  \n",
       "680            1           0            0  \n",
       "725            1           0            0  \n",
       "564            0           1            0  \n",
       "329            1           0            0  "
      ]
     },
     "execution_count": 150,
     "metadata": {},
     "output_type": "execute_result"
    }
   ],
   "source": [
    "X_train_cat_dum = pd.get_dummies(X_train_cat)\n",
    "X_train_cat_dum.head()"
   ]
  },
  {
   "cell_type": "code",
   "execution_count": 151,
   "metadata": {},
   "outputs": [],
   "source": [
    "# para normalizar los datos, puedo usar la siguiene función:\n",
    "\n",
    "def norm_df(df: pd.DataFrame()):\n",
    "    brain_norm = (df - df.mean())/df.std()\n",
    "    return brain_norm"
   ]
  },
  {
   "cell_type": "code",
   "execution_count": 152,
   "metadata": {},
   "outputs": [
    {
     "data": {
      "text/html": [
       "<div>\n",
       "<style scoped>\n",
       "    .dataframe tbody tr th:only-of-type {\n",
       "        vertical-align: middle;\n",
       "    }\n",
       "\n",
       "    .dataframe tbody tr th {\n",
       "        vertical-align: top;\n",
       "    }\n",
       "\n",
       "    .dataframe thead th {\n",
       "        text-align: right;\n",
       "    }\n",
       "</style>\n",
       "<table border=\"1\" class=\"dataframe\">\n",
       "  <thead>\n",
       "    <tr style=\"text-align: right;\">\n",
       "      <th></th>\n",
       "      <th>age</th>\n",
       "      <th>trestbps</th>\n",
       "      <th>thalch</th>\n",
       "      <th>oldpeak</th>\n",
       "    </tr>\n",
       "  </thead>\n",
       "  <tbody>\n",
       "    <tr>\n",
       "      <th>835</th>\n",
       "      <td>1.099331</td>\n",
       "      <td>7.683810e-15</td>\n",
       "      <td>-5.678807e-15</td>\n",
       "      <td>-0.339075</td>\n",
       "    </tr>\n",
       "    <tr>\n",
       "      <th>680</th>\n",
       "      <td>0.780869</td>\n",
       "      <td>3.641894e+00</td>\n",
       "      <td>-2.690305e+00</td>\n",
       "      <td>-0.805192</td>\n",
       "    </tr>\n",
       "    <tr>\n",
       "      <th>725</th>\n",
       "      <td>1.311640</td>\n",
       "      <td>-6.837062e-01</td>\n",
       "      <td>-6.922528e-01</td>\n",
       "      <td>-1.271309</td>\n",
       "    </tr>\n",
       "    <tr>\n",
       "      <th>564</th>\n",
       "      <td>-0.174520</td>\n",
       "      <td>-1.116266e+00</td>\n",
       "      <td>-1.651318e+00</td>\n",
       "      <td>0.127042</td>\n",
       "    </tr>\n",
       "    <tr>\n",
       "      <th>329</th>\n",
       "      <td>-1.766834</td>\n",
       "      <td>-1.430061e-01</td>\n",
       "      <td>8.262671e-01</td>\n",
       "      <td>-0.805192</td>\n",
       "    </tr>\n",
       "  </tbody>\n",
       "</table>\n",
       "</div>"
      ],
      "text/plain": [
       "          age      trestbps        thalch   oldpeak\n",
       "835  1.099331  7.683810e-15 -5.678807e-15 -0.339075\n",
       "680  0.780869  3.641894e+00 -2.690305e+00 -0.805192\n",
       "725  1.311640 -6.837062e-01 -6.922528e-01 -1.271309\n",
       "564 -0.174520 -1.116266e+00 -1.651318e+00  0.127042\n",
       "329 -1.766834 -1.430061e-01  8.262671e-01 -0.805192"
      ]
     },
     "execution_count": 152,
     "metadata": {},
     "output_type": "execute_result"
    }
   ],
   "source": [
    "X_train_num_norm = norm_df(X_train_num)\n",
    "X_train_num_norm.head()"
   ]
  },
  {
   "cell_type": "code",
   "execution_count": 153,
   "metadata": {},
   "outputs": [
    {
     "data": {
      "text/html": [
       "<div>\n",
       "<style scoped>\n",
       "    .dataframe tbody tr th:only-of-type {\n",
       "        vertical-align: middle;\n",
       "    }\n",
       "\n",
       "    .dataframe tbody tr th {\n",
       "        vertical-align: top;\n",
       "    }\n",
       "\n",
       "    .dataframe thead th {\n",
       "        text-align: right;\n",
       "    }\n",
       "</style>\n",
       "<table border=\"1\" class=\"dataframe\">\n",
       "  <thead>\n",
       "    <tr style=\"text-align: right;\">\n",
       "      <th></th>\n",
       "      <th>age</th>\n",
       "      <th>trestbps</th>\n",
       "      <th>thalch</th>\n",
       "      <th>oldpeak</th>\n",
       "      <th>cp_asymptomatic</th>\n",
       "      <th>cp_atypical angina</th>\n",
       "      <th>cp_non-anginal</th>\n",
       "      <th>cp_typical angina</th>\n",
       "      <th>sex_Female</th>\n",
       "      <th>sex_Male</th>\n",
       "      <th>chol_cat_danger</th>\n",
       "      <th>chol_cat_healthy</th>\n",
       "      <th>chol_cat_risk</th>\n",
       "      <th>restecg_lv hypertrophy</th>\n",
       "      <th>restecg_normal</th>\n",
       "      <th>restecg_st-t abnormality</th>\n",
       "      <th>exang_False</th>\n",
       "      <th>exang_True</th>\n",
       "      <th>exang_False</th>\n",
       "    </tr>\n",
       "  </thead>\n",
       "  <tbody>\n",
       "    <tr>\n",
       "      <th>835</th>\n",
       "      <td>1.099331</td>\n",
       "      <td>7.683810e-15</td>\n",
       "      <td>-5.678807e-15</td>\n",
       "      <td>-0.339075</td>\n",
       "      <td>1</td>\n",
       "      <td>0</td>\n",
       "      <td>0</td>\n",
       "      <td>0</td>\n",
       "      <td>0</td>\n",
       "      <td>1</td>\n",
       "      <td>1</td>\n",
       "      <td>0</td>\n",
       "      <td>0</td>\n",
       "      <td>0</td>\n",
       "      <td>0</td>\n",
       "      <td>1</td>\n",
       "      <td>0</td>\n",
       "      <td>0</td>\n",
       "      <td>1</td>\n",
       "    </tr>\n",
       "    <tr>\n",
       "      <th>680</th>\n",
       "      <td>0.780869</td>\n",
       "      <td>3.641894e+00</td>\n",
       "      <td>-2.690305e+00</td>\n",
       "      <td>-0.805192</td>\n",
       "      <td>0</td>\n",
       "      <td>0</td>\n",
       "      <td>1</td>\n",
       "      <td>0</td>\n",
       "      <td>0</td>\n",
       "      <td>1</td>\n",
       "      <td>0</td>\n",
       "      <td>1</td>\n",
       "      <td>0</td>\n",
       "      <td>0</td>\n",
       "      <td>0</td>\n",
       "      <td>1</td>\n",
       "      <td>1</td>\n",
       "      <td>0</td>\n",
       "      <td>0</td>\n",
       "    </tr>\n",
       "    <tr>\n",
       "      <th>725</th>\n",
       "      <td>1.311640</td>\n",
       "      <td>-6.837062e-01</td>\n",
       "      <td>-6.922528e-01</td>\n",
       "      <td>-1.271309</td>\n",
       "      <td>0</td>\n",
       "      <td>0</td>\n",
       "      <td>1</td>\n",
       "      <td>0</td>\n",
       "      <td>0</td>\n",
       "      <td>1</td>\n",
       "      <td>0</td>\n",
       "      <td>1</td>\n",
       "      <td>0</td>\n",
       "      <td>0</td>\n",
       "      <td>0</td>\n",
       "      <td>1</td>\n",
       "      <td>1</td>\n",
       "      <td>0</td>\n",
       "      <td>0</td>\n",
       "    </tr>\n",
       "    <tr>\n",
       "      <th>564</th>\n",
       "      <td>-0.174520</td>\n",
       "      <td>-1.116266e+00</td>\n",
       "      <td>-1.651318e+00</td>\n",
       "      <td>0.127042</td>\n",
       "      <td>1</td>\n",
       "      <td>0</td>\n",
       "      <td>0</td>\n",
       "      <td>0</td>\n",
       "      <td>0</td>\n",
       "      <td>1</td>\n",
       "      <td>1</td>\n",
       "      <td>0</td>\n",
       "      <td>0</td>\n",
       "      <td>0</td>\n",
       "      <td>0</td>\n",
       "      <td>1</td>\n",
       "      <td>0</td>\n",
       "      <td>1</td>\n",
       "      <td>0</td>\n",
       "    </tr>\n",
       "    <tr>\n",
       "      <th>329</th>\n",
       "      <td>-1.766834</td>\n",
       "      <td>-1.430061e-01</td>\n",
       "      <td>8.262671e-01</td>\n",
       "      <td>-0.805192</td>\n",
       "      <td>1</td>\n",
       "      <td>0</td>\n",
       "      <td>0</td>\n",
       "      <td>0</td>\n",
       "      <td>0</td>\n",
       "      <td>1</td>\n",
       "      <td>1</td>\n",
       "      <td>0</td>\n",
       "      <td>0</td>\n",
       "      <td>0</td>\n",
       "      <td>1</td>\n",
       "      <td>0</td>\n",
       "      <td>1</td>\n",
       "      <td>0</td>\n",
       "      <td>0</td>\n",
       "    </tr>\n",
       "  </tbody>\n",
       "</table>\n",
       "</div>"
      ],
      "text/plain": [
       "          age      trestbps        thalch   oldpeak  cp_asymptomatic  \\\n",
       "835  1.099331  7.683810e-15 -5.678807e-15 -0.339075                1   \n",
       "680  0.780869  3.641894e+00 -2.690305e+00 -0.805192                0   \n",
       "725  1.311640 -6.837062e-01 -6.922528e-01 -1.271309                0   \n",
       "564 -0.174520 -1.116266e+00 -1.651318e+00  0.127042                1   \n",
       "329 -1.766834 -1.430061e-01  8.262671e-01 -0.805192                1   \n",
       "\n",
       "     cp_atypical angina  cp_non-anginal  cp_typical angina  sex_Female  \\\n",
       "835                   0               0                  0           0   \n",
       "680                   0               1                  0           0   \n",
       "725                   0               1                  0           0   \n",
       "564                   0               0                  0           0   \n",
       "329                   0               0                  0           0   \n",
       "\n",
       "     sex_Male  chol_cat_danger  chol_cat_healthy  chol_cat_risk  \\\n",
       "835         1                1                 0              0   \n",
       "680         1                0                 1              0   \n",
       "725         1                0                 1              0   \n",
       "564         1                1                 0              0   \n",
       "329         1                1                 0              0   \n",
       "\n",
       "     restecg_lv hypertrophy  restecg_normal  restecg_st-t abnormality  \\\n",
       "835                       0               0                         1   \n",
       "680                       0               0                         1   \n",
       "725                       0               0                         1   \n",
       "564                       0               0                         1   \n",
       "329                       0               1                         0   \n",
       "\n",
       "     exang_False  exang_True  exang_False  \n",
       "835            0           0            1  \n",
       "680            1           0            0  \n",
       "725            1           0            0  \n",
       "564            0           1            0  \n",
       "329            1           0            0  "
      ]
     },
     "execution_count": 153,
     "metadata": {},
     "output_type": "execute_result"
    }
   ],
   "source": [
    "# junto de nuevo los datos categóricos y cuantitativos\n",
    "\n",
    "X_train_cl = pd.merge(X_train_num_norm, X_train_cat_dum, left_index=True, right_index=True)\n",
    "X_train_cl.head()"
   ]
  },
  {
   "cell_type": "code",
   "execution_count": 154,
   "metadata": {},
   "outputs": [
    {
     "data": {
      "text/html": [
       "<div>\n",
       "<style scoped>\n",
       "    .dataframe tbody tr th:only-of-type {\n",
       "        vertical-align: middle;\n",
       "    }\n",
       "\n",
       "    .dataframe tbody tr th {\n",
       "        vertical-align: top;\n",
       "    }\n",
       "\n",
       "    .dataframe thead th {\n",
       "        text-align: right;\n",
       "    }\n",
       "</style>\n",
       "<table border=\"1\" class=\"dataframe\">\n",
       "  <thead>\n",
       "    <tr style=\"text-align: right;\">\n",
       "      <th></th>\n",
       "      <th>age</th>\n",
       "      <th>trestbps</th>\n",
       "      <th>thalch</th>\n",
       "      <th>oldpeak</th>\n",
       "      <th>cp_asymptomatic</th>\n",
       "      <th>cp_atypical angina</th>\n",
       "      <th>cp_non-anginal</th>\n",
       "      <th>cp_typical angina</th>\n",
       "      <th>sex_Female</th>\n",
       "      <th>sex_Male</th>\n",
       "      <th>chol_cat_danger</th>\n",
       "      <th>chol_cat_healthy</th>\n",
       "      <th>chol_cat_risk</th>\n",
       "      <th>restecg_lv hypertrophy</th>\n",
       "      <th>restecg_normal</th>\n",
       "      <th>restecg_st-t abnormality</th>\n",
       "      <th>exang_False</th>\n",
       "      <th>exang_True</th>\n",
       "      <th>exang_False</th>\n",
       "      <th>fbs</th>\n",
       "    </tr>\n",
       "  </thead>\n",
       "  <tbody>\n",
       "    <tr>\n",
       "      <th>835</th>\n",
       "      <td>1.099331</td>\n",
       "      <td>7.683810e-15</td>\n",
       "      <td>-5.678807e-15</td>\n",
       "      <td>-0.339075</td>\n",
       "      <td>1</td>\n",
       "      <td>0</td>\n",
       "      <td>0</td>\n",
       "      <td>0</td>\n",
       "      <td>0</td>\n",
       "      <td>1</td>\n",
       "      <td>1</td>\n",
       "      <td>0</td>\n",
       "      <td>0</td>\n",
       "      <td>0</td>\n",
       "      <td>0</td>\n",
       "      <td>1</td>\n",
       "      <td>0</td>\n",
       "      <td>0</td>\n",
       "      <td>1</td>\n",
       "      <td>True</td>\n",
       "    </tr>\n",
       "    <tr>\n",
       "      <th>680</th>\n",
       "      <td>0.780869</td>\n",
       "      <td>3.641894e+00</td>\n",
       "      <td>-2.690305e+00</td>\n",
       "      <td>-0.805192</td>\n",
       "      <td>0</td>\n",
       "      <td>0</td>\n",
       "      <td>1</td>\n",
       "      <td>0</td>\n",
       "      <td>0</td>\n",
       "      <td>1</td>\n",
       "      <td>0</td>\n",
       "      <td>1</td>\n",
       "      <td>0</td>\n",
       "      <td>0</td>\n",
       "      <td>0</td>\n",
       "      <td>1</td>\n",
       "      <td>1</td>\n",
       "      <td>0</td>\n",
       "      <td>0</td>\n",
       "      <td>NaN</td>\n",
       "    </tr>\n",
       "    <tr>\n",
       "      <th>725</th>\n",
       "      <td>1.311640</td>\n",
       "      <td>-6.837062e-01</td>\n",
       "      <td>-6.922528e-01</td>\n",
       "      <td>-1.271309</td>\n",
       "      <td>0</td>\n",
       "      <td>0</td>\n",
       "      <td>1</td>\n",
       "      <td>0</td>\n",
       "      <td>0</td>\n",
       "      <td>1</td>\n",
       "      <td>0</td>\n",
       "      <td>1</td>\n",
       "      <td>0</td>\n",
       "      <td>0</td>\n",
       "      <td>0</td>\n",
       "      <td>1</td>\n",
       "      <td>1</td>\n",
       "      <td>0</td>\n",
       "      <td>0</td>\n",
       "      <td>False</td>\n",
       "    </tr>\n",
       "    <tr>\n",
       "      <th>564</th>\n",
       "      <td>-0.174520</td>\n",
       "      <td>-1.116266e+00</td>\n",
       "      <td>-1.651318e+00</td>\n",
       "      <td>0.127042</td>\n",
       "      <td>1</td>\n",
       "      <td>0</td>\n",
       "      <td>0</td>\n",
       "      <td>0</td>\n",
       "      <td>0</td>\n",
       "      <td>1</td>\n",
       "      <td>1</td>\n",
       "      <td>0</td>\n",
       "      <td>0</td>\n",
       "      <td>0</td>\n",
       "      <td>0</td>\n",
       "      <td>1</td>\n",
       "      <td>0</td>\n",
       "      <td>1</td>\n",
       "      <td>0</td>\n",
       "      <td>False</td>\n",
       "    </tr>\n",
       "    <tr>\n",
       "      <th>329</th>\n",
       "      <td>-1.766834</td>\n",
       "      <td>-1.430061e-01</td>\n",
       "      <td>8.262671e-01</td>\n",
       "      <td>-0.805192</td>\n",
       "      <td>1</td>\n",
       "      <td>0</td>\n",
       "      <td>0</td>\n",
       "      <td>0</td>\n",
       "      <td>0</td>\n",
       "      <td>1</td>\n",
       "      <td>1</td>\n",
       "      <td>0</td>\n",
       "      <td>0</td>\n",
       "      <td>0</td>\n",
       "      <td>1</td>\n",
       "      <td>0</td>\n",
       "      <td>1</td>\n",
       "      <td>0</td>\n",
       "      <td>0</td>\n",
       "      <td>False</td>\n",
       "    </tr>\n",
       "  </tbody>\n",
       "</table>\n",
       "</div>"
      ],
      "text/plain": [
       "          age      trestbps        thalch   oldpeak  cp_asymptomatic  \\\n",
       "835  1.099331  7.683810e-15 -5.678807e-15 -0.339075                1   \n",
       "680  0.780869  3.641894e+00 -2.690305e+00 -0.805192                0   \n",
       "725  1.311640 -6.837062e-01 -6.922528e-01 -1.271309                0   \n",
       "564 -0.174520 -1.116266e+00 -1.651318e+00  0.127042                1   \n",
       "329 -1.766834 -1.430061e-01  8.262671e-01 -0.805192                1   \n",
       "\n",
       "     cp_atypical angina  cp_non-anginal  cp_typical angina  sex_Female  \\\n",
       "835                   0               0                  0           0   \n",
       "680                   0               1                  0           0   \n",
       "725                   0               1                  0           0   \n",
       "564                   0               0                  0           0   \n",
       "329                   0               0                  0           0   \n",
       "\n",
       "     sex_Male  chol_cat_danger  chol_cat_healthy  chol_cat_risk  \\\n",
       "835         1                1                 0              0   \n",
       "680         1                0                 1              0   \n",
       "725         1                0                 1              0   \n",
       "564         1                1                 0              0   \n",
       "329         1                1                 0              0   \n",
       "\n",
       "     restecg_lv hypertrophy  restecg_normal  restecg_st-t abnormality  \\\n",
       "835                       0               0                         1   \n",
       "680                       0               0                         1   \n",
       "725                       0               0                         1   \n",
       "564                       0               0                         1   \n",
       "329                       0               1                         0   \n",
       "\n",
       "     exang_False  exang_True  exang_False    fbs  \n",
       "835            0           0            1   True  \n",
       "680            1           0            0    NaN  \n",
       "725            1           0            0  False  \n",
       "564            0           1            0  False  \n",
       "329            1           0            0  False  "
      ]
     },
     "execution_count": 154,
     "metadata": {},
     "output_type": "execute_result"
    }
   ],
   "source": [
    "X_train_cl_fbs = pd.merge(X_train_cl, X_train['fbs'], left_index=True, right_index=True)\n",
    "X_train_cl_fbs.head()"
   ]
  },
  {
   "cell_type": "code",
   "execution_count": 155,
   "metadata": {},
   "outputs": [
    {
     "data": {
      "text/plain": [
       "(736, 20)"
      ]
     },
     "execution_count": 155,
     "metadata": {},
     "output_type": "execute_result"
    }
   ],
   "source": [
    "X_train_cl_fbs.shape"
   ]
  },
  {
   "cell_type": "markdown",
   "metadata": {},
   "source": [
    "Ahora voy a dividir los datos en un test en el que están los valores nulos que vamos a intentar predecir y el resto de datos que nos servirán para predecir estos valores"
   ]
  },
  {
   "cell_type": "code",
   "execution_count": 156,
   "metadata": {},
   "outputs": [
    {
     "name": "stdout",
     "output_type": "stream",
     "text": [
      "(73, 19)\n"
     ]
    },
    {
     "data": {
      "text/html": [
       "<div>\n",
       "<style scoped>\n",
       "    .dataframe tbody tr th:only-of-type {\n",
       "        vertical-align: middle;\n",
       "    }\n",
       "\n",
       "    .dataframe tbody tr th {\n",
       "        vertical-align: top;\n",
       "    }\n",
       "\n",
       "    .dataframe thead th {\n",
       "        text-align: right;\n",
       "    }\n",
       "</style>\n",
       "<table border=\"1\" class=\"dataframe\">\n",
       "  <thead>\n",
       "    <tr style=\"text-align: right;\">\n",
       "      <th></th>\n",
       "      <th>age</th>\n",
       "      <th>trestbps</th>\n",
       "      <th>thalch</th>\n",
       "      <th>oldpeak</th>\n",
       "      <th>cp_asymptomatic</th>\n",
       "      <th>cp_atypical angina</th>\n",
       "      <th>cp_non-anginal</th>\n",
       "      <th>cp_typical angina</th>\n",
       "      <th>sex_Female</th>\n",
       "      <th>sex_Male</th>\n",
       "      <th>chol_cat_danger</th>\n",
       "      <th>chol_cat_healthy</th>\n",
       "      <th>chol_cat_risk</th>\n",
       "      <th>restecg_lv hypertrophy</th>\n",
       "      <th>restecg_normal</th>\n",
       "      <th>restecg_st-t abnormality</th>\n",
       "      <th>exang_False</th>\n",
       "      <th>exang_True</th>\n",
       "      <th>exang_False</th>\n",
       "    </tr>\n",
       "  </thead>\n",
       "  <tbody>\n",
       "    <tr>\n",
       "      <th>680</th>\n",
       "      <td>0.780869</td>\n",
       "      <td>3.641894</td>\n",
       "      <td>-2.690305</td>\n",
       "      <td>-0.805192</td>\n",
       "      <td>0</td>\n",
       "      <td>0</td>\n",
       "      <td>1</td>\n",
       "      <td>0</td>\n",
       "      <td>0</td>\n",
       "      <td>1</td>\n",
       "      <td>0</td>\n",
       "      <td>1</td>\n",
       "      <td>0</td>\n",
       "      <td>0</td>\n",
       "      <td>0</td>\n",
       "      <td>1</td>\n",
       "      <td>1</td>\n",
       "      <td>0</td>\n",
       "      <td>0</td>\n",
       "    </tr>\n",
       "    <tr>\n",
       "      <th>615</th>\n",
       "      <td>-0.811446</td>\n",
       "      <td>-1.765106</td>\n",
       "      <td>-0.172759</td>\n",
       "      <td>-3.229000</td>\n",
       "      <td>1</td>\n",
       "      <td>0</td>\n",
       "      <td>0</td>\n",
       "      <td>0</td>\n",
       "      <td>0</td>\n",
       "      <td>1</td>\n",
       "      <td>0</td>\n",
       "      <td>1</td>\n",
       "      <td>0</td>\n",
       "      <td>0</td>\n",
       "      <td>0</td>\n",
       "      <td>1</td>\n",
       "      <td>1</td>\n",
       "      <td>0</td>\n",
       "      <td>0</td>\n",
       "    </tr>\n",
       "    <tr>\n",
       "      <th>708</th>\n",
       "      <td>1.311640</td>\n",
       "      <td>1.208744</td>\n",
       "      <td>-1.891084</td>\n",
       "      <td>-0.805192</td>\n",
       "      <td>1</td>\n",
       "      <td>0</td>\n",
       "      <td>0</td>\n",
       "      <td>0</td>\n",
       "      <td>1</td>\n",
       "      <td>0</td>\n",
       "      <td>0</td>\n",
       "      <td>1</td>\n",
       "      <td>0</td>\n",
       "      <td>0</td>\n",
       "      <td>1</td>\n",
       "      <td>0</td>\n",
       "      <td>1</td>\n",
       "      <td>0</td>\n",
       "      <td>0</td>\n",
       "    </tr>\n",
       "    <tr>\n",
       "      <th>614</th>\n",
       "      <td>-0.917600</td>\n",
       "      <td>-1.224406</td>\n",
       "      <td>0.027046</td>\n",
       "      <td>-0.898415</td>\n",
       "      <td>0</td>\n",
       "      <td>0</td>\n",
       "      <td>1</td>\n",
       "      <td>0</td>\n",
       "      <td>0</td>\n",
       "      <td>1</td>\n",
       "      <td>0</td>\n",
       "      <td>1</td>\n",
       "      <td>0</td>\n",
       "      <td>0</td>\n",
       "      <td>1</td>\n",
       "      <td>0</td>\n",
       "      <td>1</td>\n",
       "      <td>0</td>\n",
       "      <td>0</td>\n",
       "    </tr>\n",
       "    <tr>\n",
       "      <th>685</th>\n",
       "      <td>0.780869</td>\n",
       "      <td>-0.143006</td>\n",
       "      <td>-2.410578</td>\n",
       "      <td>1.525393</td>\n",
       "      <td>1</td>\n",
       "      <td>0</td>\n",
       "      <td>0</td>\n",
       "      <td>0</td>\n",
       "      <td>0</td>\n",
       "      <td>1</td>\n",
       "      <td>0</td>\n",
       "      <td>1</td>\n",
       "      <td>0</td>\n",
       "      <td>0</td>\n",
       "      <td>1</td>\n",
       "      <td>0</td>\n",
       "      <td>1</td>\n",
       "      <td>0</td>\n",
       "      <td>0</td>\n",
       "    </tr>\n",
       "  </tbody>\n",
       "</table>\n",
       "</div>"
      ],
      "text/plain": [
       "          age  trestbps    thalch   oldpeak  cp_asymptomatic  \\\n",
       "680  0.780869  3.641894 -2.690305 -0.805192                0   \n",
       "615 -0.811446 -1.765106 -0.172759 -3.229000                1   \n",
       "708  1.311640  1.208744 -1.891084 -0.805192                1   \n",
       "614 -0.917600 -1.224406  0.027046 -0.898415                0   \n",
       "685  0.780869 -0.143006 -2.410578  1.525393                1   \n",
       "\n",
       "     cp_atypical angina  cp_non-anginal  cp_typical angina  sex_Female  \\\n",
       "680                   0               1                  0           0   \n",
       "615                   0               0                  0           0   \n",
       "708                   0               0                  0           1   \n",
       "614                   0               1                  0           0   \n",
       "685                   0               0                  0           0   \n",
       "\n",
       "     sex_Male  chol_cat_danger  chol_cat_healthy  chol_cat_risk  \\\n",
       "680         1                0                 1              0   \n",
       "615         1                0                 1              0   \n",
       "708         0                0                 1              0   \n",
       "614         1                0                 1              0   \n",
       "685         1                0                 1              0   \n",
       "\n",
       "     restecg_lv hypertrophy  restecg_normal  restecg_st-t abnormality  \\\n",
       "680                       0               0                         1   \n",
       "615                       0               0                         1   \n",
       "708                       0               1                         0   \n",
       "614                       0               1                         0   \n",
       "685                       0               1                         0   \n",
       "\n",
       "     exang_False  exang_True  exang_False  \n",
       "680            1           0            0  \n",
       "615            1           0            0  \n",
       "708            1           0            0  \n",
       "614            1           0            0  \n",
       "685            1           0            0  "
      ]
     },
     "execution_count": 156,
     "metadata": {},
     "output_type": "execute_result"
    }
   ],
   "source": [
    "X_pred_fbs = X_train_cl_fbs[X_train_cl_fbs['fbs'].isna()].iloc[:,:-1]\n",
    "print(X_pred_fbs.shape)\n",
    "X_pred_fbs.head()"
   ]
  },
  {
   "cell_type": "code",
   "execution_count": 157,
   "metadata": {},
   "outputs": [
    {
     "name": "stdout",
     "output_type": "stream",
     "text": [
      "(663, 20)\n"
     ]
    },
    {
     "data": {
      "text/html": [
       "<div>\n",
       "<style scoped>\n",
       "    .dataframe tbody tr th:only-of-type {\n",
       "        vertical-align: middle;\n",
       "    }\n",
       "\n",
       "    .dataframe tbody tr th {\n",
       "        vertical-align: top;\n",
       "    }\n",
       "\n",
       "    .dataframe thead th {\n",
       "        text-align: right;\n",
       "    }\n",
       "</style>\n",
       "<table border=\"1\" class=\"dataframe\">\n",
       "  <thead>\n",
       "    <tr style=\"text-align: right;\">\n",
       "      <th></th>\n",
       "      <th>age</th>\n",
       "      <th>trestbps</th>\n",
       "      <th>thalch</th>\n",
       "      <th>oldpeak</th>\n",
       "      <th>cp_asymptomatic</th>\n",
       "      <th>cp_atypical angina</th>\n",
       "      <th>cp_non-anginal</th>\n",
       "      <th>cp_typical angina</th>\n",
       "      <th>sex_Female</th>\n",
       "      <th>sex_Male</th>\n",
       "      <th>chol_cat_danger</th>\n",
       "      <th>chol_cat_healthy</th>\n",
       "      <th>chol_cat_risk</th>\n",
       "      <th>restecg_lv hypertrophy</th>\n",
       "      <th>restecg_normal</th>\n",
       "      <th>restecg_st-t abnormality</th>\n",
       "      <th>exang_False</th>\n",
       "      <th>exang_True</th>\n",
       "      <th>exang_False</th>\n",
       "      <th>fbs</th>\n",
       "    </tr>\n",
       "  </thead>\n",
       "  <tbody>\n",
       "    <tr>\n",
       "      <th>835</th>\n",
       "      <td>1.099331</td>\n",
       "      <td>7.683810e-15</td>\n",
       "      <td>-5.678807e-15</td>\n",
       "      <td>-0.339075</td>\n",
       "      <td>1</td>\n",
       "      <td>0</td>\n",
       "      <td>0</td>\n",
       "      <td>0</td>\n",
       "      <td>0</td>\n",
       "      <td>1</td>\n",
       "      <td>1</td>\n",
       "      <td>0</td>\n",
       "      <td>0</td>\n",
       "      <td>0</td>\n",
       "      <td>0</td>\n",
       "      <td>1</td>\n",
       "      <td>0</td>\n",
       "      <td>0</td>\n",
       "      <td>1</td>\n",
       "      <td>True</td>\n",
       "    </tr>\n",
       "    <tr>\n",
       "      <th>725</th>\n",
       "      <td>1.311640</td>\n",
       "      <td>-6.837062e-01</td>\n",
       "      <td>-6.922528e-01</td>\n",
       "      <td>-1.271309</td>\n",
       "      <td>0</td>\n",
       "      <td>0</td>\n",
       "      <td>1</td>\n",
       "      <td>0</td>\n",
       "      <td>0</td>\n",
       "      <td>1</td>\n",
       "      <td>0</td>\n",
       "      <td>1</td>\n",
       "      <td>0</td>\n",
       "      <td>0</td>\n",
       "      <td>0</td>\n",
       "      <td>1</td>\n",
       "      <td>1</td>\n",
       "      <td>0</td>\n",
       "      <td>0</td>\n",
       "      <td>False</td>\n",
       "    </tr>\n",
       "    <tr>\n",
       "      <th>564</th>\n",
       "      <td>-0.174520</td>\n",
       "      <td>-1.116266e+00</td>\n",
       "      <td>-1.651318e+00</td>\n",
       "      <td>0.127042</td>\n",
       "      <td>1</td>\n",
       "      <td>0</td>\n",
       "      <td>0</td>\n",
       "      <td>0</td>\n",
       "      <td>0</td>\n",
       "      <td>1</td>\n",
       "      <td>1</td>\n",
       "      <td>0</td>\n",
       "      <td>0</td>\n",
       "      <td>0</td>\n",
       "      <td>0</td>\n",
       "      <td>1</td>\n",
       "      <td>0</td>\n",
       "      <td>1</td>\n",
       "      <td>0</td>\n",
       "      <td>False</td>\n",
       "    </tr>\n",
       "    <tr>\n",
       "      <th>329</th>\n",
       "      <td>-1.766834</td>\n",
       "      <td>-1.430061e-01</td>\n",
       "      <td>8.262671e-01</td>\n",
       "      <td>-0.805192</td>\n",
       "      <td>1</td>\n",
       "      <td>0</td>\n",
       "      <td>0</td>\n",
       "      <td>0</td>\n",
       "      <td>0</td>\n",
       "      <td>1</td>\n",
       "      <td>1</td>\n",
       "      <td>0</td>\n",
       "      <td>0</td>\n",
       "      <td>0</td>\n",
       "      <td>1</td>\n",
       "      <td>0</td>\n",
       "      <td>1</td>\n",
       "      <td>0</td>\n",
       "      <td>0</td>\n",
       "      <td>False</td>\n",
       "    </tr>\n",
       "    <tr>\n",
       "      <th>441</th>\n",
       "      <td>-0.068366</td>\n",
       "      <td>-1.430061e-01</td>\n",
       "      <td>4.266566e-01</td>\n",
       "      <td>-0.805192</td>\n",
       "      <td>1</td>\n",
       "      <td>0</td>\n",
       "      <td>0</td>\n",
       "      <td>0</td>\n",
       "      <td>0</td>\n",
       "      <td>1</td>\n",
       "      <td>0</td>\n",
       "      <td>1</td>\n",
       "      <td>0</td>\n",
       "      <td>0</td>\n",
       "      <td>1</td>\n",
       "      <td>0</td>\n",
       "      <td>1</td>\n",
       "      <td>0</td>\n",
       "      <td>0</td>\n",
       "      <td>False</td>\n",
       "    </tr>\n",
       "  </tbody>\n",
       "</table>\n",
       "</div>"
      ],
      "text/plain": [
       "          age      trestbps        thalch   oldpeak  cp_asymptomatic  \\\n",
       "835  1.099331  7.683810e-15 -5.678807e-15 -0.339075                1   \n",
       "725  1.311640 -6.837062e-01 -6.922528e-01 -1.271309                0   \n",
       "564 -0.174520 -1.116266e+00 -1.651318e+00  0.127042                1   \n",
       "329 -1.766834 -1.430061e-01  8.262671e-01 -0.805192                1   \n",
       "441 -0.068366 -1.430061e-01  4.266566e-01 -0.805192                1   \n",
       "\n",
       "     cp_atypical angina  cp_non-anginal  cp_typical angina  sex_Female  \\\n",
       "835                   0               0                  0           0   \n",
       "725                   0               1                  0           0   \n",
       "564                   0               0                  0           0   \n",
       "329                   0               0                  0           0   \n",
       "441                   0               0                  0           0   \n",
       "\n",
       "     sex_Male  chol_cat_danger  chol_cat_healthy  chol_cat_risk  \\\n",
       "835         1                1                 0              0   \n",
       "725         1                0                 1              0   \n",
       "564         1                1                 0              0   \n",
       "329         1                1                 0              0   \n",
       "441         1                0                 1              0   \n",
       "\n",
       "     restecg_lv hypertrophy  restecg_normal  restecg_st-t abnormality  \\\n",
       "835                       0               0                         1   \n",
       "725                       0               0                         1   \n",
       "564                       0               0                         1   \n",
       "329                       0               1                         0   \n",
       "441                       0               1                         0   \n",
       "\n",
       "     exang_False  exang_True  exang_False    fbs  \n",
       "835            0           0            1   True  \n",
       "725            1           0            0  False  \n",
       "564            0           1            0  False  \n",
       "329            1           0            0  False  \n",
       "441            1           0            0  False  "
      ]
     },
     "execution_count": 157,
     "metadata": {},
     "output_type": "execute_result"
    }
   ],
   "source": [
    "X_train_fbs = X_train_cl_fbs.dropna()\n",
    "print(X_train_fbs.shape)\n",
    "X_train_fbs.head()"
   ]
  },
  {
   "cell_type": "code",
   "execution_count": 158,
   "metadata": {},
   "outputs": [
    {
     "data": {
      "text/plain": [
       "{'age',\n",
       " 'chol_cat_danger',\n",
       " 'chol_cat_healthy',\n",
       " 'chol_cat_risk',\n",
       " 'cp_asymptomatic',\n",
       " 'cp_atypical angina',\n",
       " 'cp_non-anginal',\n",
       " 'cp_typical angina',\n",
       " 'exang_False',\n",
       " 'exang_True',\n",
       " 'fbs',\n",
       " 'oldpeak',\n",
       " 'restecg_lv hypertrophy',\n",
       " 'restecg_normal',\n",
       " 'restecg_st-t abnormality',\n",
       " 'sex_Female',\n",
       " 'sex_Male',\n",
       " 'thalch',\n",
       " 'trestbps'}"
      ]
     },
     "execution_count": 158,
     "metadata": {},
     "output_type": "execute_result"
    }
   ],
   "source": [
    "set(X_train_fbs)"
   ]
  },
  {
   "cell_type": "markdown",
   "metadata": {},
   "source": [
    "En este caso, voy a validar con un test muy pequeño. No quiero hacer el dataset de train excesivamente pequeño porque ya es la segunda partición de los datos y corro el riesgo de usar un dataset de entrenamiento excesivamente pequeño."
   ]
  },
  {
   "cell_type": "code",
   "execution_count": 159,
   "metadata": {},
   "outputs": [],
   "source": [
    "X = X_train_fbs.drop(columns=['fbs'])\n",
    "y = X_train_fbs.fbs\n",
    "y=y.astype('int') \n",
    "\n",
    "X_train2, X_test2, y_train2, y_test2 = train_test_split(\n",
    "    X, y, test_size=0.1, random_state=23)"
   ]
  },
  {
   "cell_type": "code",
   "execution_count": 160,
   "metadata": {},
   "outputs": [],
   "source": [
    "from sklearn.linear_model import LogisticRegression\n",
    "\n",
    "clf = LogisticRegression(random_state=0).fit(X_train2, y_train2)"
   ]
  },
  {
   "cell_type": "code",
   "execution_count": 161,
   "metadata": {},
   "outputs": [],
   "source": [
    "y_pred = clf.predict(X_test2)"
   ]
  },
  {
   "cell_type": "code",
   "execution_count": 162,
   "metadata": {},
   "outputs": [
    {
     "data": {
      "text/plain": [
       "array([[491,   7],\n",
       "       [ 93,   5]])"
      ]
     },
     "execution_count": 162,
     "metadata": {},
     "output_type": "execute_result"
    }
   ],
   "source": [
    "from sklearn.metrics import confusion_matrix\n",
    "from sklearn.model_selection import cross_val_predict\n",
    "\n",
    "y_train_pred = cross_val_predict(clf, X_train2, y_train2, cv=5)\n",
    "\n",
    "confusion_matrix(y_train2, y_train_pred)"
   ]
  },
  {
   "cell_type": "code",
   "execution_count": 163,
   "metadata": {},
   "outputs": [
    {
     "name": "stdout",
     "output_type": "stream",
     "text": [
      "La precisión del modelo es de 0.4166666666666667\n"
     ]
    }
   ],
   "source": [
    "tn, fp, fn, tp = confusion_matrix(y_train2, y_train_pred).ravel()\n",
    "\n",
    "prec = tp/(tp + fp)\n",
    "\n",
    "print(f\"La precisión del modelo es de {prec}\")"
   ]
  },
  {
   "cell_type": "markdown",
   "metadata": {},
   "source": [
    "Podemos ver que la precisión de este modelo es bastante baja. Los datos que estamos usando no están hechos para predecir la variable fbs. Por lo tanto, es previsible que estos resultados no sean especialmente buenos. \n",
    "\n",
    "Además, en este ejemplo quería mostrar cómo se pueden usar métodos más sofisticados para predecir el valor real de los valores nulos.\n",
    "\n",
    "A continuación voy a predecir los valores nulos usando este modelo:"
   ]
  },
  {
   "cell_type": "code",
   "execution_count": 164,
   "metadata": {},
   "outputs": [],
   "source": [
    "fbs_null = clf.predict(X_pred_fbs)"
   ]
  },
  {
   "cell_type": "code",
   "execution_count": 165,
   "metadata": {},
   "outputs": [
    {
     "data": {
      "text/plain": [
       "array([1, 0, 0, 0, 0, 0, 0, 0, 0, 0, 0, 0, 0, 0, 0, 0, 0, 0, 0, 0, 0, 0,\n",
       "       0, 0, 0, 0, 0, 0, 0, 0, 0, 0, 0, 0, 0, 0, 0, 0, 0, 0, 0, 0, 0, 0,\n",
       "       0, 0, 0, 0, 0, 0, 0, 0, 0, 0, 0, 0, 0, 0, 0, 0, 0, 0, 0, 0, 0, 0,\n",
       "       0, 0, 0, 0, 0, 0, 0])"
      ]
     },
     "execution_count": 165,
     "metadata": {},
     "output_type": "execute_result"
    }
   ],
   "source": [
    "fbs_null"
   ]
  },
  {
   "cell_type": "markdown",
   "metadata": {},
   "source": [
    "Ahora juntamos al dataset el array con los resultados predichos por el modelo. Excepto el primer valor nulo, el resto son False. Una vez tega esto, ya tendremos los datos perfectos para seguir en las próximas fases con la implementación de los modelos de Machine Learning.\n",
    "\n",
    "Aún así, voy a reducir el número de dimensiones usando PCA o Singular Value Decomposition (SVD)."
   ]
  },
  {
   "cell_type": "code",
   "execution_count": 166,
   "metadata": {},
   "outputs": [
    {
     "data": {
      "text/html": [
       "<div>\n",
       "<style scoped>\n",
       "    .dataframe tbody tr th:only-of-type {\n",
       "        vertical-align: middle;\n",
       "    }\n",
       "\n",
       "    .dataframe tbody tr th {\n",
       "        vertical-align: top;\n",
       "    }\n",
       "\n",
       "    .dataframe thead th {\n",
       "        text-align: right;\n",
       "    }\n",
       "</style>\n",
       "<table border=\"1\" class=\"dataframe\">\n",
       "  <thead>\n",
       "    <tr style=\"text-align: right;\">\n",
       "      <th></th>\n",
       "      <th>age</th>\n",
       "      <th>trestbps</th>\n",
       "      <th>thalch</th>\n",
       "      <th>oldpeak</th>\n",
       "      <th>cp_asymptomatic</th>\n",
       "      <th>cp_atypical angina</th>\n",
       "      <th>cp_non-anginal</th>\n",
       "      <th>cp_typical angina</th>\n",
       "      <th>sex_Female</th>\n",
       "      <th>sex_Male</th>\n",
       "      <th>chol_cat_danger</th>\n",
       "      <th>chol_cat_healthy</th>\n",
       "      <th>chol_cat_risk</th>\n",
       "      <th>restecg_lv hypertrophy</th>\n",
       "      <th>restecg_normal</th>\n",
       "      <th>restecg_st-t abnormality</th>\n",
       "      <th>exang_False</th>\n",
       "      <th>exang_True</th>\n",
       "      <th>exang_False</th>\n",
       "    </tr>\n",
       "  </thead>\n",
       "  <tbody>\n",
       "    <tr>\n",
       "      <th>835</th>\n",
       "      <td>1.099331</td>\n",
       "      <td>7.683810e-15</td>\n",
       "      <td>-5.678807e-15</td>\n",
       "      <td>-0.339075</td>\n",
       "      <td>1</td>\n",
       "      <td>0</td>\n",
       "      <td>0</td>\n",
       "      <td>0</td>\n",
       "      <td>0</td>\n",
       "      <td>1</td>\n",
       "      <td>1</td>\n",
       "      <td>0</td>\n",
       "      <td>0</td>\n",
       "      <td>0</td>\n",
       "      <td>0</td>\n",
       "      <td>1</td>\n",
       "      <td>0</td>\n",
       "      <td>0</td>\n",
       "      <td>1</td>\n",
       "    </tr>\n",
       "    <tr>\n",
       "      <th>680</th>\n",
       "      <td>0.780869</td>\n",
       "      <td>3.641894e+00</td>\n",
       "      <td>-2.690305e+00</td>\n",
       "      <td>-0.805192</td>\n",
       "      <td>0</td>\n",
       "      <td>0</td>\n",
       "      <td>1</td>\n",
       "      <td>0</td>\n",
       "      <td>0</td>\n",
       "      <td>1</td>\n",
       "      <td>0</td>\n",
       "      <td>1</td>\n",
       "      <td>0</td>\n",
       "      <td>0</td>\n",
       "      <td>0</td>\n",
       "      <td>1</td>\n",
       "      <td>1</td>\n",
       "      <td>0</td>\n",
       "      <td>0</td>\n",
       "    </tr>\n",
       "    <tr>\n",
       "      <th>725</th>\n",
       "      <td>1.311640</td>\n",
       "      <td>-6.837062e-01</td>\n",
       "      <td>-6.922528e-01</td>\n",
       "      <td>-1.271309</td>\n",
       "      <td>0</td>\n",
       "      <td>0</td>\n",
       "      <td>1</td>\n",
       "      <td>0</td>\n",
       "      <td>0</td>\n",
       "      <td>1</td>\n",
       "      <td>0</td>\n",
       "      <td>1</td>\n",
       "      <td>0</td>\n",
       "      <td>0</td>\n",
       "      <td>0</td>\n",
       "      <td>1</td>\n",
       "      <td>1</td>\n",
       "      <td>0</td>\n",
       "      <td>0</td>\n",
       "    </tr>\n",
       "    <tr>\n",
       "      <th>564</th>\n",
       "      <td>-0.174520</td>\n",
       "      <td>-1.116266e+00</td>\n",
       "      <td>-1.651318e+00</td>\n",
       "      <td>0.127042</td>\n",
       "      <td>1</td>\n",
       "      <td>0</td>\n",
       "      <td>0</td>\n",
       "      <td>0</td>\n",
       "      <td>0</td>\n",
       "      <td>1</td>\n",
       "      <td>1</td>\n",
       "      <td>0</td>\n",
       "      <td>0</td>\n",
       "      <td>0</td>\n",
       "      <td>0</td>\n",
       "      <td>1</td>\n",
       "      <td>0</td>\n",
       "      <td>1</td>\n",
       "      <td>0</td>\n",
       "    </tr>\n",
       "    <tr>\n",
       "      <th>329</th>\n",
       "      <td>-1.766834</td>\n",
       "      <td>-1.430061e-01</td>\n",
       "      <td>8.262671e-01</td>\n",
       "      <td>-0.805192</td>\n",
       "      <td>1</td>\n",
       "      <td>0</td>\n",
       "      <td>0</td>\n",
       "      <td>0</td>\n",
       "      <td>0</td>\n",
       "      <td>1</td>\n",
       "      <td>1</td>\n",
       "      <td>0</td>\n",
       "      <td>0</td>\n",
       "      <td>0</td>\n",
       "      <td>1</td>\n",
       "      <td>0</td>\n",
       "      <td>1</td>\n",
       "      <td>0</td>\n",
       "      <td>0</td>\n",
       "    </tr>\n",
       "  </tbody>\n",
       "</table>\n",
       "</div>"
      ],
      "text/plain": [
       "          age      trestbps        thalch   oldpeak  cp_asymptomatic  \\\n",
       "835  1.099331  7.683810e-15 -5.678807e-15 -0.339075                1   \n",
       "680  0.780869  3.641894e+00 -2.690305e+00 -0.805192                0   \n",
       "725  1.311640 -6.837062e-01 -6.922528e-01 -1.271309                0   \n",
       "564 -0.174520 -1.116266e+00 -1.651318e+00  0.127042                1   \n",
       "329 -1.766834 -1.430061e-01  8.262671e-01 -0.805192                1   \n",
       "\n",
       "     cp_atypical angina  cp_non-anginal  cp_typical angina  sex_Female  \\\n",
       "835                   0               0                  0           0   \n",
       "680                   0               1                  0           0   \n",
       "725                   0               1                  0           0   \n",
       "564                   0               0                  0           0   \n",
       "329                   0               0                  0           0   \n",
       "\n",
       "     sex_Male  chol_cat_danger  chol_cat_healthy  chol_cat_risk  \\\n",
       "835         1                1                 0              0   \n",
       "680         1                0                 1              0   \n",
       "725         1                0                 1              0   \n",
       "564         1                1                 0              0   \n",
       "329         1                1                 0              0   \n",
       "\n",
       "     restecg_lv hypertrophy  restecg_normal  restecg_st-t abnormality  \\\n",
       "835                       0               0                         1   \n",
       "680                       0               0                         1   \n",
       "725                       0               0                         1   \n",
       "564                       0               0                         1   \n",
       "329                       0               1                         0   \n",
       "\n",
       "     exang_False  exang_True  exang_False  \n",
       "835            0           0            1  \n",
       "680            1           0            0  \n",
       "725            1           0            0  \n",
       "564            0           1            0  \n",
       "329            1           0            0  "
      ]
     },
     "execution_count": 166,
     "metadata": {},
     "output_type": "execute_result"
    }
   ],
   "source": [
    "X_train_cl.head()"
   ]
  },
  {
   "cell_type": "code",
   "execution_count": 167,
   "metadata": {},
   "outputs": [],
   "source": [
    "X_train.loc[680, 'fbs'] = True"
   ]
  },
  {
   "cell_type": "code",
   "execution_count": 168,
   "metadata": {},
   "outputs": [
    {
     "data": {
      "text/plain": [
       "fbs    72\n",
       "dtype: int64"
      ]
     },
     "execution_count": 168,
     "metadata": {},
     "output_type": "execute_result"
    }
   ],
   "source": [
    "X_train.isna().sum()[X_train.isna().sum() > 0] # show nan of cols with nan"
   ]
  },
  {
   "cell_type": "code",
   "execution_count": 169,
   "metadata": {},
   "outputs": [],
   "source": [
    "X_train['fbs'] = X_train['fbs'].fillna(False)"
   ]
  },
  {
   "cell_type": "code",
   "execution_count": 170,
   "metadata": {},
   "outputs": [
    {
     "data": {
      "text/plain": [
       "Series([], dtype: int64)"
      ]
     },
     "execution_count": 170,
     "metadata": {},
     "output_type": "execute_result"
    }
   ],
   "source": [
    "X_train.isna().sum()[X_train.isna().sum() > 0] # show nan of cols with nan"
   ]
  },
  {
   "cell_type": "code",
   "execution_count": 171,
   "metadata": {},
   "outputs": [
    {
     "data": {
      "text/html": [
       "<div>\n",
       "<style scoped>\n",
       "    .dataframe tbody tr th:only-of-type {\n",
       "        vertical-align: middle;\n",
       "    }\n",
       "\n",
       "    .dataframe tbody tr th {\n",
       "        vertical-align: top;\n",
       "    }\n",
       "\n",
       "    .dataframe thead th {\n",
       "        text-align: right;\n",
       "    }\n",
       "</style>\n",
       "<table border=\"1\" class=\"dataframe\">\n",
       "  <thead>\n",
       "    <tr style=\"text-align: right;\">\n",
       "      <th></th>\n",
       "      <th>age</th>\n",
       "      <th>sex</th>\n",
       "      <th>cp</th>\n",
       "      <th>trestbps</th>\n",
       "      <th>chol_cat</th>\n",
       "      <th>chol</th>\n",
       "      <th>fbs</th>\n",
       "      <th>restecg</th>\n",
       "      <th>thalch</th>\n",
       "      <th>exang</th>\n",
       "      <th>oldpeak</th>\n",
       "    </tr>\n",
       "  </thead>\n",
       "  <tbody>\n",
       "    <tr>\n",
       "      <th>835</th>\n",
       "      <td>64</td>\n",
       "      <td>Male</td>\n",
       "      <td>asymptomatic</td>\n",
       "      <td>132.644833</td>\n",
       "      <td>danger</td>\n",
       "      <td>306.0</td>\n",
       "      <td>True</td>\n",
       "      <td>st-t abnormality</td>\n",
       "      <td>137.323188</td>\n",
       "      <td>False</td>\n",
       "      <td>0.5</td>\n",
       "    </tr>\n",
       "    <tr>\n",
       "      <th>680</th>\n",
       "      <td>61</td>\n",
       "      <td>Male</td>\n",
       "      <td>non-anginal</td>\n",
       "      <td>200.000000</td>\n",
       "      <td>healthy</td>\n",
       "      <td>0.0</td>\n",
       "      <td>True</td>\n",
       "      <td>st-t abnormality</td>\n",
       "      <td>70.000000</td>\n",
       "      <td>False</td>\n",
       "      <td>0.0</td>\n",
       "    </tr>\n",
       "    <tr>\n",
       "      <th>725</th>\n",
       "      <td>66</td>\n",
       "      <td>Male</td>\n",
       "      <td>non-anginal</td>\n",
       "      <td>120.000000</td>\n",
       "      <td>healthy</td>\n",
       "      <td>0.0</td>\n",
       "      <td>False</td>\n",
       "      <td>st-t abnormality</td>\n",
       "      <td>120.000000</td>\n",
       "      <td>False</td>\n",
       "      <td>-0.5</td>\n",
       "    </tr>\n",
       "    <tr>\n",
       "      <th>564</th>\n",
       "      <td>52</td>\n",
       "      <td>Male</td>\n",
       "      <td>asymptomatic</td>\n",
       "      <td>112.000000</td>\n",
       "      <td>danger</td>\n",
       "      <td>342.0</td>\n",
       "      <td>False</td>\n",
       "      <td>st-t abnormality</td>\n",
       "      <td>96.000000</td>\n",
       "      <td>True</td>\n",
       "      <td>1.0</td>\n",
       "    </tr>\n",
       "    <tr>\n",
       "      <th>329</th>\n",
       "      <td>37</td>\n",
       "      <td>Male</td>\n",
       "      <td>asymptomatic</td>\n",
       "      <td>130.000000</td>\n",
       "      <td>danger</td>\n",
       "      <td>315.0</td>\n",
       "      <td>False</td>\n",
       "      <td>normal</td>\n",
       "      <td>158.000000</td>\n",
       "      <td>False</td>\n",
       "      <td>0.0</td>\n",
       "    </tr>\n",
       "  </tbody>\n",
       "</table>\n",
       "</div>"
      ],
      "text/plain": [
       "     age   sex            cp    trestbps chol_cat   chol    fbs  \\\n",
       "835   64  Male  asymptomatic  132.644833   danger  306.0   True   \n",
       "680   61  Male   non-anginal  200.000000  healthy    0.0   True   \n",
       "725   66  Male   non-anginal  120.000000  healthy    0.0  False   \n",
       "564   52  Male  asymptomatic  112.000000   danger  342.0  False   \n",
       "329   37  Male  asymptomatic  130.000000   danger  315.0  False   \n",
       "\n",
       "              restecg      thalch  exang  oldpeak  \n",
       "835  st-t abnormality  137.323188  False      0.5  \n",
       "680  st-t abnormality   70.000000  False      0.0  \n",
       "725  st-t abnormality  120.000000  False     -0.5  \n",
       "564  st-t abnormality   96.000000   True      1.0  \n",
       "329            normal  158.000000  False      0.0  "
      ]
     },
     "execution_count": 171,
     "metadata": {},
     "output_type": "execute_result"
    }
   ],
   "source": [
    "X_train.head()"
   ]
  },
  {
   "cell_type": "code",
   "execution_count": 172,
   "metadata": {},
   "outputs": [
    {
     "data": {
      "text/plain": [
       "{False, True}"
      ]
     },
     "execution_count": 172,
     "metadata": {},
     "output_type": "execute_result"
    }
   ],
   "source": [
    "set(X_train['fbs'])"
   ]
  },
  {
   "cell_type": "code",
   "execution_count": 173,
   "metadata": {},
   "outputs": [
    {
     "data": {
      "text/html": [
       "<div>\n",
       "<style scoped>\n",
       "    .dataframe tbody tr th:only-of-type {\n",
       "        vertical-align: middle;\n",
       "    }\n",
       "\n",
       "    .dataframe tbody tr th {\n",
       "        vertical-align: top;\n",
       "    }\n",
       "\n",
       "    .dataframe thead th {\n",
       "        text-align: right;\n",
       "    }\n",
       "</style>\n",
       "<table border=\"1\" class=\"dataframe\">\n",
       "  <thead>\n",
       "    <tr style=\"text-align: right;\">\n",
       "      <th></th>\n",
       "      <th>False</th>\n",
       "      <th>True</th>\n",
       "    </tr>\n",
       "  </thead>\n",
       "  <tbody>\n",
       "    <tr>\n",
       "      <th>835</th>\n",
       "      <td>0</td>\n",
       "      <td>1</td>\n",
       "    </tr>\n",
       "    <tr>\n",
       "      <th>680</th>\n",
       "      <td>0</td>\n",
       "      <td>1</td>\n",
       "    </tr>\n",
       "    <tr>\n",
       "      <th>725</th>\n",
       "      <td>1</td>\n",
       "      <td>0</td>\n",
       "    </tr>\n",
       "    <tr>\n",
       "      <th>564</th>\n",
       "      <td>1</td>\n",
       "      <td>0</td>\n",
       "    </tr>\n",
       "    <tr>\n",
       "      <th>329</th>\n",
       "      <td>1</td>\n",
       "      <td>0</td>\n",
       "    </tr>\n",
       "  </tbody>\n",
       "</table>\n",
       "</div>"
      ],
      "text/plain": [
       "     False  True\n",
       "835      0     1\n",
       "680      0     1\n",
       "725      1     0\n",
       "564      1     0\n",
       "329      1     0"
      ]
     },
     "execution_count": 173,
     "metadata": {},
     "output_type": "execute_result"
    }
   ],
   "source": [
    "#convertir fbs en una variable dummy\n",
    "fbs_dum = pd.get_dummies(X_train['fbs'])\n",
    "\n",
    "fbs_dum.head()"
   ]
  },
  {
   "cell_type": "code",
   "execution_count": 174,
   "metadata": {},
   "outputs": [
    {
     "data": {
      "text/html": [
       "<div>\n",
       "<style scoped>\n",
       "    .dataframe tbody tr th:only-of-type {\n",
       "        vertical-align: middle;\n",
       "    }\n",
       "\n",
       "    .dataframe tbody tr th {\n",
       "        vertical-align: top;\n",
       "    }\n",
       "\n",
       "    .dataframe thead th {\n",
       "        text-align: right;\n",
       "    }\n",
       "</style>\n",
       "<table border=\"1\" class=\"dataframe\">\n",
       "  <thead>\n",
       "    <tr style=\"text-align: right;\">\n",
       "      <th></th>\n",
       "      <th>age</th>\n",
       "      <th>trestbps</th>\n",
       "      <th>thalch</th>\n",
       "      <th>oldpeak</th>\n",
       "      <th>cp_asymptomatic</th>\n",
       "      <th>cp_atypical angina</th>\n",
       "      <th>cp_non-anginal</th>\n",
       "      <th>cp_typical angina</th>\n",
       "      <th>sex_Female</th>\n",
       "      <th>sex_Male</th>\n",
       "      <th>...</th>\n",
       "      <th>chol_cat_healthy</th>\n",
       "      <th>chol_cat_risk</th>\n",
       "      <th>restecg_lv hypertrophy</th>\n",
       "      <th>restecg_normal</th>\n",
       "      <th>restecg_st-t abnormality</th>\n",
       "      <th>exang_False</th>\n",
       "      <th>exang_True</th>\n",
       "      <th>exang_False</th>\n",
       "      <th>False</th>\n",
       "      <th>True</th>\n",
       "    </tr>\n",
       "  </thead>\n",
       "  <tbody>\n",
       "    <tr>\n",
       "      <th>835</th>\n",
       "      <td>1.099331</td>\n",
       "      <td>7.683810e-15</td>\n",
       "      <td>-5.678807e-15</td>\n",
       "      <td>-0.339075</td>\n",
       "      <td>1</td>\n",
       "      <td>0</td>\n",
       "      <td>0</td>\n",
       "      <td>0</td>\n",
       "      <td>0</td>\n",
       "      <td>1</td>\n",
       "      <td>...</td>\n",
       "      <td>0</td>\n",
       "      <td>0</td>\n",
       "      <td>0</td>\n",
       "      <td>0</td>\n",
       "      <td>1</td>\n",
       "      <td>0</td>\n",
       "      <td>0</td>\n",
       "      <td>1</td>\n",
       "      <td>0</td>\n",
       "      <td>1</td>\n",
       "    </tr>\n",
       "    <tr>\n",
       "      <th>680</th>\n",
       "      <td>0.780869</td>\n",
       "      <td>3.641894e+00</td>\n",
       "      <td>-2.690305e+00</td>\n",
       "      <td>-0.805192</td>\n",
       "      <td>0</td>\n",
       "      <td>0</td>\n",
       "      <td>1</td>\n",
       "      <td>0</td>\n",
       "      <td>0</td>\n",
       "      <td>1</td>\n",
       "      <td>...</td>\n",
       "      <td>1</td>\n",
       "      <td>0</td>\n",
       "      <td>0</td>\n",
       "      <td>0</td>\n",
       "      <td>1</td>\n",
       "      <td>1</td>\n",
       "      <td>0</td>\n",
       "      <td>0</td>\n",
       "      <td>0</td>\n",
       "      <td>1</td>\n",
       "    </tr>\n",
       "    <tr>\n",
       "      <th>725</th>\n",
       "      <td>1.311640</td>\n",
       "      <td>-6.837062e-01</td>\n",
       "      <td>-6.922528e-01</td>\n",
       "      <td>-1.271309</td>\n",
       "      <td>0</td>\n",
       "      <td>0</td>\n",
       "      <td>1</td>\n",
       "      <td>0</td>\n",
       "      <td>0</td>\n",
       "      <td>1</td>\n",
       "      <td>...</td>\n",
       "      <td>1</td>\n",
       "      <td>0</td>\n",
       "      <td>0</td>\n",
       "      <td>0</td>\n",
       "      <td>1</td>\n",
       "      <td>1</td>\n",
       "      <td>0</td>\n",
       "      <td>0</td>\n",
       "      <td>1</td>\n",
       "      <td>0</td>\n",
       "    </tr>\n",
       "    <tr>\n",
       "      <th>564</th>\n",
       "      <td>-0.174520</td>\n",
       "      <td>-1.116266e+00</td>\n",
       "      <td>-1.651318e+00</td>\n",
       "      <td>0.127042</td>\n",
       "      <td>1</td>\n",
       "      <td>0</td>\n",
       "      <td>0</td>\n",
       "      <td>0</td>\n",
       "      <td>0</td>\n",
       "      <td>1</td>\n",
       "      <td>...</td>\n",
       "      <td>0</td>\n",
       "      <td>0</td>\n",
       "      <td>0</td>\n",
       "      <td>0</td>\n",
       "      <td>1</td>\n",
       "      <td>0</td>\n",
       "      <td>1</td>\n",
       "      <td>0</td>\n",
       "      <td>1</td>\n",
       "      <td>0</td>\n",
       "    </tr>\n",
       "    <tr>\n",
       "      <th>329</th>\n",
       "      <td>-1.766834</td>\n",
       "      <td>-1.430061e-01</td>\n",
       "      <td>8.262671e-01</td>\n",
       "      <td>-0.805192</td>\n",
       "      <td>1</td>\n",
       "      <td>0</td>\n",
       "      <td>0</td>\n",
       "      <td>0</td>\n",
       "      <td>0</td>\n",
       "      <td>1</td>\n",
       "      <td>...</td>\n",
       "      <td>0</td>\n",
       "      <td>0</td>\n",
       "      <td>0</td>\n",
       "      <td>1</td>\n",
       "      <td>0</td>\n",
       "      <td>1</td>\n",
       "      <td>0</td>\n",
       "      <td>0</td>\n",
       "      <td>1</td>\n",
       "      <td>0</td>\n",
       "    </tr>\n",
       "  </tbody>\n",
       "</table>\n",
       "<p>5 rows × 21 columns</p>\n",
       "</div>"
      ],
      "text/plain": [
       "          age      trestbps        thalch   oldpeak  cp_asymptomatic  \\\n",
       "835  1.099331  7.683810e-15 -5.678807e-15 -0.339075                1   \n",
       "680  0.780869  3.641894e+00 -2.690305e+00 -0.805192                0   \n",
       "725  1.311640 -6.837062e-01 -6.922528e-01 -1.271309                0   \n",
       "564 -0.174520 -1.116266e+00 -1.651318e+00  0.127042                1   \n",
       "329 -1.766834 -1.430061e-01  8.262671e-01 -0.805192                1   \n",
       "\n",
       "     cp_atypical angina  cp_non-anginal  cp_typical angina  sex_Female  \\\n",
       "835                   0               0                  0           0   \n",
       "680                   0               1                  0           0   \n",
       "725                   0               1                  0           0   \n",
       "564                   0               0                  0           0   \n",
       "329                   0               0                  0           0   \n",
       "\n",
       "     sex_Male  ...  chol_cat_healthy  chol_cat_risk  restecg_lv hypertrophy  \\\n",
       "835         1  ...                 0              0                       0   \n",
       "680         1  ...                 1              0                       0   \n",
       "725         1  ...                 1              0                       0   \n",
       "564         1  ...                 0              0                       0   \n",
       "329         1  ...                 0              0                       0   \n",
       "\n",
       "     restecg_normal  restecg_st-t abnormality  exang_False  exang_True  \\\n",
       "835               0                         1            0           0   \n",
       "680               0                         1            1           0   \n",
       "725               0                         1            1           0   \n",
       "564               0                         1            0           1   \n",
       "329               1                         0            1           0   \n",
       "\n",
       "     exang_False  False  True  \n",
       "835            1      0     1  \n",
       "680            0      0     1  \n",
       "725            0      1     0  \n",
       "564            0      1     0  \n",
       "329            0      1     0  \n",
       "\n",
       "[5 rows x 21 columns]"
      ]
     },
     "execution_count": 174,
     "metadata": {},
     "output_type": "execute_result"
    }
   ],
   "source": [
    "X_tr = pd.concat([X_train_cl, fbs_dum], axis=1)\n",
    "X_tr.head()"
   ]
  },
  {
   "cell_type": "markdown",
   "metadata": {},
   "source": [
    "### Aplicar PCA a los datos\n",
    "\n",
    "Una vez he completado la etapa de limpieza de datos, puedo empezar a aplicar la PCA a la base de datos que he obtenido al final de todo el proceso.\n",
    "\n",
    "Usando Singular Value Decomposition (SVD) podemos descomponer los datos en la operación de tres matrices distintas, donde cada vector de la matrix Vt corresponde a un componente principal. De manera que los primeros componentes son los que contienen más porcentaje de varianza explicada de los datos principales y los últimos los que menos. Es decir, los vectores de la matriz Vt están ordenados en función del orden de la varianza."
   ]
  },
  {
   "cell_type": "markdown",
   "metadata": {},
   "source": [
    "Primero vamos a obtener una matriz de correlaciones de los datos numéricos:"
   ]
  },
  {
   "cell_type": "code",
   "execution_count": 175,
   "metadata": {},
   "outputs": [
    {
     "data": {
      "text/html": [
       "<div>\n",
       "<style scoped>\n",
       "    .dataframe tbody tr th:only-of-type {\n",
       "        vertical-align: middle;\n",
       "    }\n",
       "\n",
       "    .dataframe tbody tr th {\n",
       "        vertical-align: top;\n",
       "    }\n",
       "\n",
       "    .dataframe thead th {\n",
       "        text-align: right;\n",
       "    }\n",
       "</style>\n",
       "<table border=\"1\" class=\"dataframe\">\n",
       "  <thead>\n",
       "    <tr style=\"text-align: right;\">\n",
       "      <th></th>\n",
       "      <th>age</th>\n",
       "      <th>trestbps</th>\n",
       "      <th>thalch</th>\n",
       "      <th>oldpeak</th>\n",
       "    </tr>\n",
       "  </thead>\n",
       "  <tbody>\n",
       "    <tr>\n",
       "      <th>835</th>\n",
       "      <td>1.099331</td>\n",
       "      <td>7.683810e-15</td>\n",
       "      <td>-5.678807e-15</td>\n",
       "      <td>-0.339075</td>\n",
       "    </tr>\n",
       "    <tr>\n",
       "      <th>680</th>\n",
       "      <td>0.780869</td>\n",
       "      <td>3.641894e+00</td>\n",
       "      <td>-2.690305e+00</td>\n",
       "      <td>-0.805192</td>\n",
       "    </tr>\n",
       "    <tr>\n",
       "      <th>725</th>\n",
       "      <td>1.311640</td>\n",
       "      <td>-6.837062e-01</td>\n",
       "      <td>-6.922528e-01</td>\n",
       "      <td>-1.271309</td>\n",
       "    </tr>\n",
       "    <tr>\n",
       "      <th>564</th>\n",
       "      <td>-0.174520</td>\n",
       "      <td>-1.116266e+00</td>\n",
       "      <td>-1.651318e+00</td>\n",
       "      <td>0.127042</td>\n",
       "    </tr>\n",
       "    <tr>\n",
       "      <th>329</th>\n",
       "      <td>-1.766834</td>\n",
       "      <td>-1.430061e-01</td>\n",
       "      <td>8.262671e-01</td>\n",
       "      <td>-0.805192</td>\n",
       "    </tr>\n",
       "  </tbody>\n",
       "</table>\n",
       "</div>"
      ],
      "text/plain": [
       "          age      trestbps        thalch   oldpeak\n",
       "835  1.099331  7.683810e-15 -5.678807e-15 -0.339075\n",
       "680  0.780869  3.641894e+00 -2.690305e+00 -0.805192\n",
       "725  1.311640 -6.837062e-01 -6.922528e-01 -1.271309\n",
       "564 -0.174520 -1.116266e+00 -1.651318e+00  0.127042\n",
       "329 -1.766834 -1.430061e-01  8.262671e-01 -0.805192"
      ]
     },
     "execution_count": 175,
     "metadata": {},
     "output_type": "execute_result"
    }
   ],
   "source": [
    "X_tr_num = X_tr.iloc[:,:4]\n",
    "X_tr_num.head()"
   ]
  },
  {
   "cell_type": "code",
   "execution_count": 176,
   "metadata": {},
   "outputs": [],
   "source": [
    "X_tr_corr = X_tr_num.corr()"
   ]
  },
  {
   "cell_type": "code",
   "execution_count": 177,
   "metadata": {},
   "outputs": [
    {
     "data": {
      "image/png": "[encoded data removed]",
      "text/plain": [
       "<Figure size 432x288 with 2 Axes>"
      ]
     },
     "metadata": {
      "needs_background": "light"
     },
     "output_type": "display_data"
    }
   ],
   "source": [
    "sns.heatmap(X_tr_corr, cmap=\"gist_stern\")\n",
    "plt.show()"
   ]
  },
  {
   "cell_type": "code",
   "execution_count": 178,
   "metadata": {},
   "outputs": [
    {
     "data": {
      "text/plain": [
       "array([-0.58397112, -0.43020989,  0.50646986, -0.46624613])"
      ]
     },
     "execution_count": 178,
     "metadata": {},
     "output_type": "execute_result"
    }
   ],
   "source": [
    "U, s, Vt = np.linalg.svd(X_tr_corr) # svd\n",
    "\n",
    "pc1 = Vt.T[:, 0] # primer componente de la PCA\n",
    "pc1[:10]"
   ]
  },
  {
   "cell_type": "markdown",
   "metadata": {},
   "source": [
    "Una vez tenemos los componentes, podemos calcular la variabilidad que cada uno de ellos retiene.\n",
    "\n",
    "Esto es útil para seleccionar el número de componentes que dejaremos para entrenar el modelo final. "
   ]
  },
  {
   "cell_type": "code",
   "execution_count": 179,
   "metadata": {},
   "outputs": [
    {
     "name": "stdout",
     "output_type": "stream",
     "text": [
      "Varianza explicada por las 4 Componentes:\n",
      "\n",
      " [0.4179858702658142, 0.22401963963713098, 0.20185211789616905, 0.15614237220088573] \n",
      "\n",
      "Varianza acumulada por las 4 Componentes:\n",
      "\n",
      " [0.0, 0.0, 0.22401963963713098, 0.42587175753330003]\n"
     ]
    }
   ],
   "source": [
    "var_pc = []\n",
    "val_pc = []\n",
    "\n",
    "for i in range(0, len(s)):\n",
    "    var_pci = sum(s[1:i]) / sum(s)\n",
    "    pci_val = s[i] / sum(s)\n",
    "    var_pc.append(var_pci)\n",
    "    val_pc.append(pci_val)\n",
    "    \n",
    "print('Varianza explicada por las 4 Componentes:\\n\\n',\n",
    "      val_pc[:4], '\\n')\n",
    "\n",
    "print('Varianza acumulada por las 4 Componentes:\\n\\n',\n",
    "      var_pc[:4])"
   ]
  },
  {
   "cell_type": "code",
   "execution_count": 180,
   "metadata": {},
   "outputs": [
    {
     "data": {
      "image/png": "[encoded data removed]",
      "text/plain": [
       "<Figure size 432x288 with 1 Axes>"
      ]
     },
     "metadata": {
      "needs_background": "light"
     },
     "output_type": "display_data"
    }
   ],
   "source": [
    "plt.plot()\n",
    "\n",
    "plt.bar(np.linspace(0, 3, 4), val_pc)\n",
    "\n",
    "plt.show()"
   ]
  },
  {
   "cell_type": "markdown",
   "metadata": {},
   "source": [
    "### Seleccionar el Número de Componentes Principales \n",
    "\n",
    "Un método para seleccionar el número de Componentes Principales es el método de Káiser. Para esto se seleccionan los componentes que tienen un eigenvalue > 1. Este valor indica que el Componente Principal i representa más varianza que una de las variables originales. Este método sólo se puede llevar a cabo cuando los datos están estandarizados. \n",
    "\n",
    "Para hacer estos calculos necesitamos obtener los eigenvalues."
   ]
  },
  {
   "cell_type": "code",
   "execution_count": 181,
   "metadata": {},
   "outputs": [
    {
     "data": {
      "text/plain": [
       "array([1.67194348, 0.62456949, 0.89607856, 0.80740847])"
      ]
     },
     "execution_count": 181,
     "metadata": {},
     "output_type": "execute_result"
    }
   ],
   "source": [
    "eigen_values, eigen_vectors = np.linalg.eig(X_tr_corr)\n",
    "\n",
    "eigen_values[:4]"
   ]
  },
  {
   "cell_type": "markdown",
   "metadata": {},
   "source": [
    "En este caso, tenemos que únicamente el primer componente principal tiene un valor de eigenvalue > 1 y también con el método del codo, vemos que el codo se produce con un único componente."
   ]
  },
  {
   "cell_type": "code",
   "execution_count": 182,
   "metadata": {},
   "outputs": [
    {
     "data": {
      "text/plain": [
       "array([[-0.58397112],\n",
       "       [-0.43020989],\n",
       "       [ 0.50646986],\n",
       "       [-0.46624613]])"
      ]
     },
     "execution_count": 182,
     "metadata": {},
     "output_type": "execute_result"
    }
   ],
   "source": [
    "# selecciono el 1er componente\n",
    "\n",
    "# 14 componentes principales\n",
    "\n",
    "pc1 = Vt.T[:, 0:1]\n",
    "pc1"
   ]
  },
  {
   "cell_type": "markdown",
   "metadata": {},
   "source": [
    "Una vez he seleccionado un único componente principal, \n",
    "voy a transformar la matriz orignal. Para hacerlo, voy a multiplicarla por el vector principal 1.\n",
    "\n",
    "Para eso, es necesario que el número de columnas de la matrix de los datos originales sea igual al número de filas del vector.\n",
    "\n",
    "Con la función shape, podemos ver si esta asunción se cumple y realizar la operación."
   ]
  },
  {
   "cell_type": "code",
   "execution_count": 183,
   "metadata": {},
   "outputs": [
    {
     "data": {
      "text/plain": [
       "(4, 1)"
      ]
     },
     "execution_count": 183,
     "metadata": {},
     "output_type": "execute_result"
    }
   ],
   "source": [
    "pc1.shape"
   ]
  },
  {
   "cell_type": "code",
   "execution_count": 184,
   "metadata": {},
   "outputs": [
    {
     "data": {
      "text/plain": [
       "(736, 4)"
      ]
     },
     "execution_count": 184,
     "metadata": {},
     "output_type": "execute_result"
    }
   ],
   "source": [
    "X_tr_num.shape"
   ]
  },
  {
   "cell_type": "code",
   "execution_count": 185,
   "metadata": {},
   "outputs": [
    {
     "data": {
      "text/html": [
       "<div>\n",
       "<style scoped>\n",
       "    .dataframe tbody tr th:only-of-type {\n",
       "        vertical-align: middle;\n",
       "    }\n",
       "\n",
       "    .dataframe tbody tr th {\n",
       "        vertical-align: top;\n",
       "    }\n",
       "\n",
       "    .dataframe thead th {\n",
       "        text-align: right;\n",
       "    }\n",
       "</style>\n",
       "<table border=\"1\" class=\"dataframe\">\n",
       "  <thead>\n",
       "    <tr style=\"text-align: right;\">\n",
       "      <th></th>\n",
       "      <th>age</th>\n",
       "      <th>trestbps</th>\n",
       "      <th>thalch</th>\n",
       "      <th>oldpeak</th>\n",
       "    </tr>\n",
       "  </thead>\n",
       "  <tbody>\n",
       "    <tr>\n",
       "      <th>835</th>\n",
       "      <td>1.099331</td>\n",
       "      <td>7.683810e-15</td>\n",
       "      <td>-5.678807e-15</td>\n",
       "      <td>-0.339075</td>\n",
       "    </tr>\n",
       "    <tr>\n",
       "      <th>680</th>\n",
       "      <td>0.780869</td>\n",
       "      <td>3.641894e+00</td>\n",
       "      <td>-2.690305e+00</td>\n",
       "      <td>-0.805192</td>\n",
       "    </tr>\n",
       "    <tr>\n",
       "      <th>725</th>\n",
       "      <td>1.311640</td>\n",
       "      <td>-6.837062e-01</td>\n",
       "      <td>-6.922528e-01</td>\n",
       "      <td>-1.271309</td>\n",
       "    </tr>\n",
       "    <tr>\n",
       "      <th>564</th>\n",
       "      <td>-0.174520</td>\n",
       "      <td>-1.116266e+00</td>\n",
       "      <td>-1.651318e+00</td>\n",
       "      <td>0.127042</td>\n",
       "    </tr>\n",
       "    <tr>\n",
       "      <th>329</th>\n",
       "      <td>-1.766834</td>\n",
       "      <td>-1.430061e-01</td>\n",
       "      <td>8.262671e-01</td>\n",
       "      <td>-0.805192</td>\n",
       "    </tr>\n",
       "  </tbody>\n",
       "</table>\n",
       "</div>"
      ],
      "text/plain": [
       "          age      trestbps        thalch   oldpeak\n",
       "835  1.099331  7.683810e-15 -5.678807e-15 -0.339075\n",
       "680  0.780869  3.641894e+00 -2.690305e+00 -0.805192\n",
       "725  1.311640 -6.837062e-01 -6.922528e-01 -1.271309\n",
       "564 -0.174520 -1.116266e+00 -1.651318e+00  0.127042\n",
       "329 -1.766834 -1.430061e-01  8.262671e-01 -0.805192"
      ]
     },
     "execution_count": 185,
     "metadata": {},
     "output_type": "execute_result"
    }
   ],
   "source": [
    "# se cumple la asunción y reducimos la base de datos original\n",
    "\n",
    "dat_red = X_tr_num.dot(pc1)\n",
    "X_tr_num.head()"
   ]
  },
  {
   "cell_type": "markdown",
   "metadata": {},
   "source": [
    "Por último, agrego el dataset de datos categóricos y ya habremos acabado de preparar los datos de entrenamiento."
   ]
  },
  {
   "cell_type": "code",
   "execution_count": 186,
   "metadata": {},
   "outputs": [
    {
     "data": {
      "text/html": [
       "<div>\n",
       "<style scoped>\n",
       "    .dataframe tbody tr th:only-of-type {\n",
       "        vertical-align: middle;\n",
       "    }\n",
       "\n",
       "    .dataframe tbody tr th {\n",
       "        vertical-align: top;\n",
       "    }\n",
       "\n",
       "    .dataframe thead th {\n",
       "        text-align: right;\n",
       "    }\n",
       "</style>\n",
       "<table border=\"1\" class=\"dataframe\">\n",
       "  <thead>\n",
       "    <tr style=\"text-align: right;\">\n",
       "      <th></th>\n",
       "      <th>age</th>\n",
       "      <th>trestbps</th>\n",
       "      <th>thalch</th>\n",
       "      <th>oldpeak</th>\n",
       "      <th>cp_asymptomatic</th>\n",
       "      <th>cp_atypical angina</th>\n",
       "      <th>cp_non-anginal</th>\n",
       "      <th>cp_typical angina</th>\n",
       "      <th>sex_Female</th>\n",
       "      <th>sex_Male</th>\n",
       "      <th>...</th>\n",
       "      <th>chol_cat_healthy</th>\n",
       "      <th>chol_cat_risk</th>\n",
       "      <th>restecg_lv hypertrophy</th>\n",
       "      <th>restecg_normal</th>\n",
       "      <th>restecg_st-t abnormality</th>\n",
       "      <th>exang_False</th>\n",
       "      <th>exang_True</th>\n",
       "      <th>exang_False</th>\n",
       "      <th>False</th>\n",
       "      <th>True</th>\n",
       "    </tr>\n",
       "  </thead>\n",
       "  <tbody>\n",
       "    <tr>\n",
       "      <th>835</th>\n",
       "      <td>1.099331</td>\n",
       "      <td>7.683810e-15</td>\n",
       "      <td>-5.678807e-15</td>\n",
       "      <td>-0.339075</td>\n",
       "      <td>1</td>\n",
       "      <td>0</td>\n",
       "      <td>0</td>\n",
       "      <td>0</td>\n",
       "      <td>0</td>\n",
       "      <td>1</td>\n",
       "      <td>...</td>\n",
       "      <td>0</td>\n",
       "      <td>0</td>\n",
       "      <td>0</td>\n",
       "      <td>0</td>\n",
       "      <td>1</td>\n",
       "      <td>0</td>\n",
       "      <td>0</td>\n",
       "      <td>1</td>\n",
       "      <td>0</td>\n",
       "      <td>1</td>\n",
       "    </tr>\n",
       "    <tr>\n",
       "      <th>680</th>\n",
       "      <td>0.780869</td>\n",
       "      <td>3.641894e+00</td>\n",
       "      <td>-2.690305e+00</td>\n",
       "      <td>-0.805192</td>\n",
       "      <td>0</td>\n",
       "      <td>0</td>\n",
       "      <td>1</td>\n",
       "      <td>0</td>\n",
       "      <td>0</td>\n",
       "      <td>1</td>\n",
       "      <td>...</td>\n",
       "      <td>1</td>\n",
       "      <td>0</td>\n",
       "      <td>0</td>\n",
       "      <td>0</td>\n",
       "      <td>1</td>\n",
       "      <td>1</td>\n",
       "      <td>0</td>\n",
       "      <td>0</td>\n",
       "      <td>0</td>\n",
       "      <td>1</td>\n",
       "    </tr>\n",
       "    <tr>\n",
       "      <th>725</th>\n",
       "      <td>1.311640</td>\n",
       "      <td>-6.837062e-01</td>\n",
       "      <td>-6.922528e-01</td>\n",
       "      <td>-1.271309</td>\n",
       "      <td>0</td>\n",
       "      <td>0</td>\n",
       "      <td>1</td>\n",
       "      <td>0</td>\n",
       "      <td>0</td>\n",
       "      <td>1</td>\n",
       "      <td>...</td>\n",
       "      <td>1</td>\n",
       "      <td>0</td>\n",
       "      <td>0</td>\n",
       "      <td>0</td>\n",
       "      <td>1</td>\n",
       "      <td>1</td>\n",
       "      <td>0</td>\n",
       "      <td>0</td>\n",
       "      <td>1</td>\n",
       "      <td>0</td>\n",
       "    </tr>\n",
       "    <tr>\n",
       "      <th>564</th>\n",
       "      <td>-0.174520</td>\n",
       "      <td>-1.116266e+00</td>\n",
       "      <td>-1.651318e+00</td>\n",
       "      <td>0.127042</td>\n",
       "      <td>1</td>\n",
       "      <td>0</td>\n",
       "      <td>0</td>\n",
       "      <td>0</td>\n",
       "      <td>0</td>\n",
       "      <td>1</td>\n",
       "      <td>...</td>\n",
       "      <td>0</td>\n",
       "      <td>0</td>\n",
       "      <td>0</td>\n",
       "      <td>0</td>\n",
       "      <td>1</td>\n",
       "      <td>0</td>\n",
       "      <td>1</td>\n",
       "      <td>0</td>\n",
       "      <td>1</td>\n",
       "      <td>0</td>\n",
       "    </tr>\n",
       "    <tr>\n",
       "      <th>329</th>\n",
       "      <td>-1.766834</td>\n",
       "      <td>-1.430061e-01</td>\n",
       "      <td>8.262671e-01</td>\n",
       "      <td>-0.805192</td>\n",
       "      <td>1</td>\n",
       "      <td>0</td>\n",
       "      <td>0</td>\n",
       "      <td>0</td>\n",
       "      <td>0</td>\n",
       "      <td>1</td>\n",
       "      <td>...</td>\n",
       "      <td>0</td>\n",
       "      <td>0</td>\n",
       "      <td>0</td>\n",
       "      <td>1</td>\n",
       "      <td>0</td>\n",
       "      <td>1</td>\n",
       "      <td>0</td>\n",
       "      <td>0</td>\n",
       "      <td>1</td>\n",
       "      <td>0</td>\n",
       "    </tr>\n",
       "  </tbody>\n",
       "</table>\n",
       "<p>5 rows × 21 columns</p>\n",
       "</div>"
      ],
      "text/plain": [
       "          age      trestbps        thalch   oldpeak  cp_asymptomatic  \\\n",
       "835  1.099331  7.683810e-15 -5.678807e-15 -0.339075                1   \n",
       "680  0.780869  3.641894e+00 -2.690305e+00 -0.805192                0   \n",
       "725  1.311640 -6.837062e-01 -6.922528e-01 -1.271309                0   \n",
       "564 -0.174520 -1.116266e+00 -1.651318e+00  0.127042                1   \n",
       "329 -1.766834 -1.430061e-01  8.262671e-01 -0.805192                1   \n",
       "\n",
       "     cp_atypical angina  cp_non-anginal  cp_typical angina  sex_Female  \\\n",
       "835                   0               0                  0           0   \n",
       "680                   0               1                  0           0   \n",
       "725                   0               1                  0           0   \n",
       "564                   0               0                  0           0   \n",
       "329                   0               0                  0           0   \n",
       "\n",
       "     sex_Male  ...  chol_cat_healthy  chol_cat_risk  restecg_lv hypertrophy  \\\n",
       "835         1  ...                 0              0                       0   \n",
       "680         1  ...                 1              0                       0   \n",
       "725         1  ...                 1              0                       0   \n",
       "564         1  ...                 0              0                       0   \n",
       "329         1  ...                 0              0                       0   \n",
       "\n",
       "     restecg_normal  restecg_st-t abnormality  exang_False  exang_True  \\\n",
       "835               0                         1            0           0   \n",
       "680               0                         1            1           0   \n",
       "725               0                         1            1           0   \n",
       "564               0                         1            0           1   \n",
       "329               1                         0            1           0   \n",
       "\n",
       "     exang_False  False  True  \n",
       "835            1      0     1  \n",
       "680            0      0     1  \n",
       "725            0      1     0  \n",
       "564            0      1     0  \n",
       "329            0      1     0  \n",
       "\n",
       "[5 rows x 21 columns]"
      ]
     },
     "execution_count": 186,
     "metadata": {},
     "output_type": "execute_result"
    }
   ],
   "source": [
    "X_train_data = pd.concat([X_tr_num, X_tr.iloc[:,4:]], axis=1)\n",
    "X_train_data.head()"
   ]
  },
  {
   "cell_type": "markdown",
   "metadata": {},
   "source": [
    "Para generar un test set lo más realista posible, voy a utilizar las funciones del train set y las voy a aplicar en el test set.\n",
    "\n",
    "Una vez el test set esté preprocesado, empezaré el proceso de modelado de datos. "
   ]
  },
  {
   "cell_type": "markdown",
   "metadata": {},
   "source": [
    "## Preprocesado de Test Set"
   ]
  },
  {
   "cell_type": "code",
   "execution_count": null,
   "metadata": {},
   "outputs": [],
   "source": []
  },
  {
   "cell_type": "markdown",
   "metadata": {},
   "source": [
    "\n",
    "## Aplicación de Modelos No Supervisados a los Datos"
   ]
  },
  {
   "cell_type": "code",
   "execution_count": 187,
   "metadata": {},
   "outputs": [
    {
     "data": {
      "text/plain": [
       "(736, 21)"
      ]
     },
     "execution_count": 187,
     "metadata": {},
     "output_type": "execute_result"
    }
   ],
   "source": [
    "X_train_data.shape"
   ]
  },
  {
   "cell_type": "markdown",
   "metadata": {},
   "source": [
    "Aunque nos encontramos ante un problema de aprendizaje supervisado (predecir si a partir de unos atributos una persona va a presentar la enfermedad), puedo crear una categoria nueva a partir de las variables anteriores y ver si los algoritmos no supervisados son capaces de llegar a un resultado similar al del diagnóstico del personal médico sin utilizar etiquetas.\n",
    "\n",
    "Para obtener el valor ideal de Clústers, voy a probar diferentes valores de K y ver cómo evoluciona la inertia:"
   ]
  },
  {
   "cell_type": "code",
   "execution_count": 188,
   "metadata": {},
   "outputs": [],
   "source": [
    "from sklearn import cluster\n",
    "\n",
    "def kmeans_sse(k:int, X):\n",
    "    random.seed(42)\n",
    "\n",
    "    kmeans = cluster.KMeans(n_clusters=k, random_state=42)\n",
    "    y_pred = kmeans.fit_predict(X)\n",
    "\n",
    "    return kmeans.inertia_\n",
    "\n",
    "\n",
    "\n",
    "def plot_sse(X):\n",
    "    K_vals = np.linspace(1,10,10).astype(int)\n",
    "    sse_values =[]\n",
    "\n",
    "    for ki in K_vals:\n",
    "        sse_score = kmeans_sse(ki, X)\n",
    "\n",
    "        sse_values.append(sse_score)\n",
    "\n",
    "    return plt.plot(K_vals, sse_values)"
   ]
  },
  {
   "cell_type": "code",
   "execution_count": 195,
   "metadata": {},
   "outputs": [
    {
     "data": {
      "text/plain": [
       "[<matplotlib.lines.Line2D at 0x7fb2ea6ec5e0>]"
      ]
     },
     "execution_count": 195,
     "metadata": {},
     "output_type": "execute_result"
    },
    {
     "data": {
      "image/png": "[encoded data removed]",
      "text/plain": [
       "<Figure size 432x288 with 1 Axes>"
      ]
     },
     "metadata": {
      "needs_background": "light"
     },
     "output_type": "display_data"
    }
   ],
   "source": [
    "K_vals = np.linspace(1,6,6).astype(int)\n",
    "\n",
    "sse_values =[]\n",
    "\n",
    "for ki in K_vals:\n",
    "    sse_score = kmeans_sse(ki, X_train_data.iloc[:,:4])\n",
    "\n",
    "    sse_values.append(sse_score)\n",
    "\n",
    "plt.plot(K_vals, sse_values)\n"
   ]
  },
  {
   "cell_type": "markdown",
   "metadata": {},
   "source": [
    "La regla del codo nos dice que en el punto en el que se produce un codo es el número para escoger de k. En este caso, parece que se produce un codo en k=2. Por esta razón, voy a utilizar k=2 para dividir los datos de los clústers anteriores."
   ]
  },
  {
   "cell_type": "code",
   "execution_count": 201,
   "metadata": {},
   "outputs": [
    {
     "data": {
      "text/plain": [
       "array([[103, 226],\n",
       "       [289, 118]])"
      ]
     },
     "execution_count": 201,
     "metadata": {},
     "output_type": "execute_result"
    }
   ],
   "source": [
    "kmeans = cluster.KMeans(n_clusters=2, random_state=42).fit(X_train_data.iloc[:,:4])\n",
    "\n",
    "diagn_labels = kmeans.labels_\n",
    "\n",
    "confusion_matrix(y_train, diagn_labels)"
   ]
  },
  {
   "cell_type": "markdown",
   "metadata": {},
   "source": [
    "A partir de la matriz de confusión se puede ver cómo el rendimiento del algoritmo de KMeans para este problema no está funcionando correctamente, y los dos clústers que ha formado tienen poco que ver con la presencia o ausencia de la enfermedad como se puede ver en la matriz de confusión. La diagonal principal se corresponde con las instancias clasificadas correctamente y se puede ver cómo la mayoría está fallando en la clasificación.\n",
    "\n",
    "Por otro lado, tiene sentido el resultado porque no hay clústers en los datos. Es decir, la combinación de dos o varias varaibles no genera dos grupos diferenciados a una distancia y separables porque se encuentran a suficiente distancia unos clústers de otros. Como se puede ver en la siguiente figura, los datos cuantitivos forman un único clúster no separable."
   ]
  },
  {
   "cell_type": "code",
   "execution_count": 200,
   "metadata": {},
   "outputs": [
    {
     "data": {
      "text/plain": [
       "<AxesSubplot:xlabel='age', ylabel='thalch'>"
      ]
     },
     "execution_count": 200,
     "metadata": {},
     "output_type": "execute_result"
    },
    {
     "data": {
      "image/png": "[encoded data removed]",
      "text/plain": [
       "<Figure size 432x288 with 1 Axes>"
      ]
     },
     "metadata": {
      "needs_background": "light"
     },
     "output_type": "display_data"
    }
   ],
   "source": [
    "sns.scatterplot(data=X_train_data, x='age', y='thalch')"
   ]
  },
  {
   "cell_type": "markdown",
   "metadata": {},
   "source": [
    "El siguiente modelo no supervisado es DBSCAN, que aunque no permite separar los datos porque no existen dos clusters separables a partir de estos datos, se puede emplear para detectar si hay outliers en los datos cuantitativos. "
   ]
  },
  {
   "cell_type": "code",
   "execution_count": 212,
   "metadata": {},
   "outputs": [
    {
     "data": {
      "text/plain": [
       "<AxesSubplot:xlabel='age', ylabel='thalch'>"
      ]
     },
     "execution_count": 212,
     "metadata": {},
     "output_type": "execute_result"
    },
    {
     "data": {
      "image/png": "[encoded data removed]",
      "text/plain": [
       "<Figure size 720x504 with 1 Axes>"
      ]
     },
     "metadata": {
      "needs_background": "light"
     },
     "output_type": "display_data"
    }
   ],
   "source": [
    "clustering = cluster.DBSCAN(eps=0.8, min_samples=15).fit(X_train_data.iloc[:,:4])\n",
    "\n",
    "plt.figure(figsize=(10,7))\n",
    "\n",
    "clusterdf = X_train_data\n",
    "\n",
    "clusterdf['dbscan'] = clustering.labels_\n",
    "\n",
    "sns.scatterplot(data=clusterdf, x='age', y='thalch', hue='dbscan')"
   ]
  },
  {
   "cell_type": "code",
   "execution_count": 237,
   "metadata": {},
   "outputs": [
    {
     "name": "stderr",
     "output_type": "stream",
     "text": [
      "/Users/angel.bujalance/opt/anaconda3/lib/python3.9/site-packages/sklearn/cluster/_optics.py:903: RuntimeWarning: divide by zero encountered in true_divide\n",
      "  ratio = reachability_plot[:-1] / reachability_plot[1:]\n"
     ]
    },
    {
     "data": {
      "text/plain": [
       "<AxesSubplot:xlabel='age', ylabel='thalch'>"
      ]
     },
     "execution_count": 237,
     "metadata": {},
     "output_type": "execute_result"
    },
    {
     "data": {
      "image/png": "[encoded data removed]",
      "text/plain": [
       "<Figure size 720x504 with 1 Axes>"
      ]
     },
     "metadata": {
      "needs_background": "light"
     },
     "output_type": "display_data"
    }
   ],
   "source": [
    "clustering = cluster.OPTICS(min_samples=5).fit(X_train_data.iloc[:,:4])\n",
    "\n",
    "plt.figure(figsize=(10,7))\n",
    "\n",
    "clusterdf = X_train_data\n",
    "\n",
    "clusterdf['optics'] = clustering.labels_\n",
    "\n",
    "sns.scatterplot(data=clusterdf, x='age', y='thalch', hue='optics', palette='muted')"
   ]
  },
  {
   "cell_type": "markdown",
   "metadata": {},
   "source": [
    "Una de las ventajas de OPTICS es que no es necesario configurar el valor de epsilon. En este problema es un valor que sí que parece necesario y el rendimiento del algoritmo está siendo inferior a DBSCAN. Por otro lado, estoy forzando a usar OPTICS en esta base de datos cuando no es un problema prototípico de clusterización y es esperable que el renidimiento del algoritmo no sea el más óptimo."
   ]
  },
  {
   "cell_type": "code",
   "execution_count": null,
   "metadata": {},
   "outputs": [],
   "source": []
  }
 ],
 "metadata": {
  "kernelspec": {
   "display_name": "Python 3.9.12 ('base')",
   "language": "python",
   "name": "python3"
  },
  "language_info": {
   "codemirror_mode": {
    "name": "ipython",
    "version": 3
   },
   "file_extension": ".py",
   "mimetype": "text/x-python",
   "name": "python",
   "nbconvert_exporter": "python",
   "pygments_lexer": "ipython3",
   "version": "3.9.12"
  },
  "vscode": {
   "interpreter": {
    "hash": "f7e72d68e400c0bb2a38e8fef553113eeec7ec7995ab1f3709461439b6e1d071"
   }
  }
 },
 "nbformat": 4,
 "nbformat_minor": 2
}
